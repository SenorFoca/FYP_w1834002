{
  "nbformat": 4,
  "nbformat_minor": 0,
  "metadata": {
    "colab": {
      "provenance": [],
      "authorship_tag": "ABX9TyOzOa6NRH2gIRwLOzJp917v",
      "include_colab_link": true
    },
    "kernelspec": {
      "name": "python3",
      "display_name": "Python 3"
    },
    "language_info": {
      "name": "python"
    }
  },
  "cells": [
    {
      "cell_type": "markdown",
      "metadata": {
        "id": "view-in-github",
        "colab_type": "text"
      },
      "source": [
        "<a href=\"https://colab.research.google.com/github/SenorFoca/FYP_w1834002/blob/main/w1834002_FYP.ipynb\" target=\"_parent\"><img src=\"https://colab.research.google.com/assets/colab-badge.svg\" alt=\"Open In Colab\"/></a>"
      ]
    },
    {
      "cell_type": "code",
      "source": [
        "pip install tensorflow"
      ],
      "metadata": {
        "colab": {
          "base_uri": "https://localhost:8080/"
        },
        "id": "tlil96hOnJ1l",
        "outputId": "5ae1696a-e15d-4ae2-9ce3-f18771e7ebfe"
      },
      "execution_count": 1,
      "outputs": [
        {
          "output_type": "stream",
          "name": "stdout",
          "text": [
            "Requirement already satisfied: tensorflow in /usr/local/lib/python3.10/dist-packages (2.15.0)\n",
            "Requirement already satisfied: absl-py>=1.0.0 in /usr/local/lib/python3.10/dist-packages (from tensorflow) (1.4.0)\n",
            "Requirement already satisfied: astunparse>=1.6.0 in /usr/local/lib/python3.10/dist-packages (from tensorflow) (1.6.3)\n",
            "Requirement already satisfied: flatbuffers>=23.5.26 in /usr/local/lib/python3.10/dist-packages (from tensorflow) (24.3.25)\n",
            "Requirement already satisfied: gast!=0.5.0,!=0.5.1,!=0.5.2,>=0.2.1 in /usr/local/lib/python3.10/dist-packages (from tensorflow) (0.5.4)\n",
            "Requirement already satisfied: google-pasta>=0.1.1 in /usr/local/lib/python3.10/dist-packages (from tensorflow) (0.2.0)\n",
            "Requirement already satisfied: h5py>=2.9.0 in /usr/local/lib/python3.10/dist-packages (from tensorflow) (3.9.0)\n",
            "Requirement already satisfied: libclang>=13.0.0 in /usr/local/lib/python3.10/dist-packages (from tensorflow) (18.1.1)\n",
            "Requirement already satisfied: ml-dtypes~=0.2.0 in /usr/local/lib/python3.10/dist-packages (from tensorflow) (0.2.0)\n",
            "Requirement already satisfied: numpy<2.0.0,>=1.23.5 in /usr/local/lib/python3.10/dist-packages (from tensorflow) (1.25.2)\n",
            "Requirement already satisfied: opt-einsum>=2.3.2 in /usr/local/lib/python3.10/dist-packages (from tensorflow) (3.3.0)\n",
            "Requirement already satisfied: packaging in /usr/local/lib/python3.10/dist-packages (from tensorflow) (24.0)\n",
            "Requirement already satisfied: protobuf!=4.21.0,!=4.21.1,!=4.21.2,!=4.21.3,!=4.21.4,!=4.21.5,<5.0.0dev,>=3.20.3 in /usr/local/lib/python3.10/dist-packages (from tensorflow) (3.20.3)\n",
            "Requirement already satisfied: setuptools in /usr/local/lib/python3.10/dist-packages (from tensorflow) (67.7.2)\n",
            "Requirement already satisfied: six>=1.12.0 in /usr/local/lib/python3.10/dist-packages (from tensorflow) (1.16.0)\n",
            "Requirement already satisfied: termcolor>=1.1.0 in /usr/local/lib/python3.10/dist-packages (from tensorflow) (2.4.0)\n",
            "Requirement already satisfied: typing-extensions>=3.6.6 in /usr/local/lib/python3.10/dist-packages (from tensorflow) (4.11.0)\n",
            "Requirement already satisfied: wrapt<1.15,>=1.11.0 in /usr/local/lib/python3.10/dist-packages (from tensorflow) (1.14.1)\n",
            "Requirement already satisfied: tensorflow-io-gcs-filesystem>=0.23.1 in /usr/local/lib/python3.10/dist-packages (from tensorflow) (0.36.0)\n",
            "Requirement already satisfied: grpcio<2.0,>=1.24.3 in /usr/local/lib/python3.10/dist-packages (from tensorflow) (1.62.2)\n",
            "Requirement already satisfied: tensorboard<2.16,>=2.15 in /usr/local/lib/python3.10/dist-packages (from tensorflow) (2.15.2)\n",
            "Requirement already satisfied: tensorflow-estimator<2.16,>=2.15.0 in /usr/local/lib/python3.10/dist-packages (from tensorflow) (2.15.0)\n",
            "Requirement already satisfied: keras<2.16,>=2.15.0 in /usr/local/lib/python3.10/dist-packages (from tensorflow) (2.15.0)\n",
            "Requirement already satisfied: wheel<1.0,>=0.23.0 in /usr/local/lib/python3.10/dist-packages (from astunparse>=1.6.0->tensorflow) (0.43.0)\n",
            "Requirement already satisfied: google-auth<3,>=1.6.3 in /usr/local/lib/python3.10/dist-packages (from tensorboard<2.16,>=2.15->tensorflow) (2.27.0)\n",
            "Requirement already satisfied: google-auth-oauthlib<2,>=0.5 in /usr/local/lib/python3.10/dist-packages (from tensorboard<2.16,>=2.15->tensorflow) (1.2.0)\n",
            "Requirement already satisfied: markdown>=2.6.8 in /usr/local/lib/python3.10/dist-packages (from tensorboard<2.16,>=2.15->tensorflow) (3.6)\n",
            "Requirement already satisfied: requests<3,>=2.21.0 in /usr/local/lib/python3.10/dist-packages (from tensorboard<2.16,>=2.15->tensorflow) (2.31.0)\n",
            "Requirement already satisfied: tensorboard-data-server<0.8.0,>=0.7.0 in /usr/local/lib/python3.10/dist-packages (from tensorboard<2.16,>=2.15->tensorflow) (0.7.2)\n",
            "Requirement already satisfied: werkzeug>=1.0.1 in /usr/local/lib/python3.10/dist-packages (from tensorboard<2.16,>=2.15->tensorflow) (3.0.2)\n",
            "Requirement already satisfied: cachetools<6.0,>=2.0.0 in /usr/local/lib/python3.10/dist-packages (from google-auth<3,>=1.6.3->tensorboard<2.16,>=2.15->tensorflow) (5.3.3)\n",
            "Requirement already satisfied: pyasn1-modules>=0.2.1 in /usr/local/lib/python3.10/dist-packages (from google-auth<3,>=1.6.3->tensorboard<2.16,>=2.15->tensorflow) (0.4.0)\n",
            "Requirement already satisfied: rsa<5,>=3.1.4 in /usr/local/lib/python3.10/dist-packages (from google-auth<3,>=1.6.3->tensorboard<2.16,>=2.15->tensorflow) (4.9)\n",
            "Requirement already satisfied: requests-oauthlib>=0.7.0 in /usr/local/lib/python3.10/dist-packages (from google-auth-oauthlib<2,>=0.5->tensorboard<2.16,>=2.15->tensorflow) (1.3.1)\n",
            "Requirement already satisfied: charset-normalizer<4,>=2 in /usr/local/lib/python3.10/dist-packages (from requests<3,>=2.21.0->tensorboard<2.16,>=2.15->tensorflow) (3.3.2)\n",
            "Requirement already satisfied: idna<4,>=2.5 in /usr/local/lib/python3.10/dist-packages (from requests<3,>=2.21.0->tensorboard<2.16,>=2.15->tensorflow) (3.7)\n",
            "Requirement already satisfied: urllib3<3,>=1.21.1 in /usr/local/lib/python3.10/dist-packages (from requests<3,>=2.21.0->tensorboard<2.16,>=2.15->tensorflow) (2.0.7)\n",
            "Requirement already satisfied: certifi>=2017.4.17 in /usr/local/lib/python3.10/dist-packages (from requests<3,>=2.21.0->tensorboard<2.16,>=2.15->tensorflow) (2024.2.2)\n",
            "Requirement already satisfied: MarkupSafe>=2.1.1 in /usr/local/lib/python3.10/dist-packages (from werkzeug>=1.0.1->tensorboard<2.16,>=2.15->tensorflow) (2.1.5)\n",
            "Requirement already satisfied: pyasn1<0.7.0,>=0.4.6 in /usr/local/lib/python3.10/dist-packages (from pyasn1-modules>=0.2.1->google-auth<3,>=1.6.3->tensorboard<2.16,>=2.15->tensorflow) (0.6.0)\n",
            "Requirement already satisfied: oauthlib>=3.0.0 in /usr/local/lib/python3.10/dist-packages (from requests-oauthlib>=0.7.0->google-auth-oauthlib<2,>=0.5->tensorboard<2.16,>=2.15->tensorflow) (3.2.2)\n"
          ]
        }
      ]
    },
    {
      "cell_type": "code",
      "execution_count": 2,
      "metadata": {
        "id": "inRViFCXzE4x"
      },
      "outputs": [],
      "source": [
        "import numpy as np\n",
        "import pandas as pd\n",
        "import matplotlib.pyplot as plt"
      ]
    },
    {
      "cell_type": "code",
      "source": [
        "df = pd.read_csv('creditcard.csv')\n",
        "df.head()"
      ],
      "metadata": {
        "colab": {
          "base_uri": "https://localhost:8080/",
          "height": 256
        },
        "id": "cvS4cVz2zhUr",
        "outputId": "dabbaba3-578f-4dbb-e8f7-a42a85c4f148"
      },
      "execution_count": 4,
      "outputs": [
        {
          "output_type": "execute_result",
          "data": {
            "text/plain": [
              "   Time        V1        V2        V3        V4        V5        V6        V7  \\\n",
              "0   0.0 -1.359807 -0.072781  2.536347  1.378155 -0.338321  0.462388  0.239599   \n",
              "1   0.0  1.191857  0.266151  0.166480  0.448154  0.060018 -0.082361 -0.078803   \n",
              "2   1.0 -1.358354 -1.340163  1.773209  0.379780 -0.503198  1.800499  0.791461   \n",
              "3   1.0 -0.966272 -0.185226  1.792993 -0.863291 -0.010309  1.247203  0.237609   \n",
              "4   2.0 -1.158233  0.877737  1.548718  0.403034 -0.407193  0.095921  0.592941   \n",
              "\n",
              "         V8        V9  ...       V21       V22       V23       V24       V25  \\\n",
              "0  0.098698  0.363787  ... -0.018307  0.277838 -0.110474  0.066928  0.128539   \n",
              "1  0.085102 -0.255425  ... -0.225775 -0.638672  0.101288 -0.339846  0.167170   \n",
              "2  0.247676 -1.514654  ...  0.247998  0.771679  0.909412 -0.689281 -0.327642   \n",
              "3  0.377436 -1.387024  ... -0.108300  0.005274 -0.190321 -1.175575  0.647376   \n",
              "4 -0.270533  0.817739  ... -0.009431  0.798278 -0.137458  0.141267 -0.206010   \n",
              "\n",
              "        V26       V27       V28  Amount  Class  \n",
              "0 -0.189115  0.133558 -0.021053  149.62      0  \n",
              "1  0.125895 -0.008983  0.014724    2.69      0  \n",
              "2 -0.139097 -0.055353 -0.059752  378.66      0  \n",
              "3 -0.221929  0.062723  0.061458  123.50      0  \n",
              "4  0.502292  0.219422  0.215153   69.99      0  \n",
              "\n",
              "[5 rows x 31 columns]"
            ],
            "text/html": [
              "\n",
              "  <div id=\"df-c7dc588d-9652-492f-a0e8-a3aa462f11df\" class=\"colab-df-container\">\n",
              "    <div>\n",
              "<style scoped>\n",
              "    .dataframe tbody tr th:only-of-type {\n",
              "        vertical-align: middle;\n",
              "    }\n",
              "\n",
              "    .dataframe tbody tr th {\n",
              "        vertical-align: top;\n",
              "    }\n",
              "\n",
              "    .dataframe thead th {\n",
              "        text-align: right;\n",
              "    }\n",
              "</style>\n",
              "<table border=\"1\" class=\"dataframe\">\n",
              "  <thead>\n",
              "    <tr style=\"text-align: right;\">\n",
              "      <th></th>\n",
              "      <th>Time</th>\n",
              "      <th>V1</th>\n",
              "      <th>V2</th>\n",
              "      <th>V3</th>\n",
              "      <th>V4</th>\n",
              "      <th>V5</th>\n",
              "      <th>V6</th>\n",
              "      <th>V7</th>\n",
              "      <th>V8</th>\n",
              "      <th>V9</th>\n",
              "      <th>...</th>\n",
              "      <th>V21</th>\n",
              "      <th>V22</th>\n",
              "      <th>V23</th>\n",
              "      <th>V24</th>\n",
              "      <th>V25</th>\n",
              "      <th>V26</th>\n",
              "      <th>V27</th>\n",
              "      <th>V28</th>\n",
              "      <th>Amount</th>\n",
              "      <th>Class</th>\n",
              "    </tr>\n",
              "  </thead>\n",
              "  <tbody>\n",
              "    <tr>\n",
              "      <th>0</th>\n",
              "      <td>0.0</td>\n",
              "      <td>-1.359807</td>\n",
              "      <td>-0.072781</td>\n",
              "      <td>2.536347</td>\n",
              "      <td>1.378155</td>\n",
              "      <td>-0.338321</td>\n",
              "      <td>0.462388</td>\n",
              "      <td>0.239599</td>\n",
              "      <td>0.098698</td>\n",
              "      <td>0.363787</td>\n",
              "      <td>...</td>\n",
              "      <td>-0.018307</td>\n",
              "      <td>0.277838</td>\n",
              "      <td>-0.110474</td>\n",
              "      <td>0.066928</td>\n",
              "      <td>0.128539</td>\n",
              "      <td>-0.189115</td>\n",
              "      <td>0.133558</td>\n",
              "      <td>-0.021053</td>\n",
              "      <td>149.62</td>\n",
              "      <td>0</td>\n",
              "    </tr>\n",
              "    <tr>\n",
              "      <th>1</th>\n",
              "      <td>0.0</td>\n",
              "      <td>1.191857</td>\n",
              "      <td>0.266151</td>\n",
              "      <td>0.166480</td>\n",
              "      <td>0.448154</td>\n",
              "      <td>0.060018</td>\n",
              "      <td>-0.082361</td>\n",
              "      <td>-0.078803</td>\n",
              "      <td>0.085102</td>\n",
              "      <td>-0.255425</td>\n",
              "      <td>...</td>\n",
              "      <td>-0.225775</td>\n",
              "      <td>-0.638672</td>\n",
              "      <td>0.101288</td>\n",
              "      <td>-0.339846</td>\n",
              "      <td>0.167170</td>\n",
              "      <td>0.125895</td>\n",
              "      <td>-0.008983</td>\n",
              "      <td>0.014724</td>\n",
              "      <td>2.69</td>\n",
              "      <td>0</td>\n",
              "    </tr>\n",
              "    <tr>\n",
              "      <th>2</th>\n",
              "      <td>1.0</td>\n",
              "      <td>-1.358354</td>\n",
              "      <td>-1.340163</td>\n",
              "      <td>1.773209</td>\n",
              "      <td>0.379780</td>\n",
              "      <td>-0.503198</td>\n",
              "      <td>1.800499</td>\n",
              "      <td>0.791461</td>\n",
              "      <td>0.247676</td>\n",
              "      <td>-1.514654</td>\n",
              "      <td>...</td>\n",
              "      <td>0.247998</td>\n",
              "      <td>0.771679</td>\n",
              "      <td>0.909412</td>\n",
              "      <td>-0.689281</td>\n",
              "      <td>-0.327642</td>\n",
              "      <td>-0.139097</td>\n",
              "      <td>-0.055353</td>\n",
              "      <td>-0.059752</td>\n",
              "      <td>378.66</td>\n",
              "      <td>0</td>\n",
              "    </tr>\n",
              "    <tr>\n",
              "      <th>3</th>\n",
              "      <td>1.0</td>\n",
              "      <td>-0.966272</td>\n",
              "      <td>-0.185226</td>\n",
              "      <td>1.792993</td>\n",
              "      <td>-0.863291</td>\n",
              "      <td>-0.010309</td>\n",
              "      <td>1.247203</td>\n",
              "      <td>0.237609</td>\n",
              "      <td>0.377436</td>\n",
              "      <td>-1.387024</td>\n",
              "      <td>...</td>\n",
              "      <td>-0.108300</td>\n",
              "      <td>0.005274</td>\n",
              "      <td>-0.190321</td>\n",
              "      <td>-1.175575</td>\n",
              "      <td>0.647376</td>\n",
              "      <td>-0.221929</td>\n",
              "      <td>0.062723</td>\n",
              "      <td>0.061458</td>\n",
              "      <td>123.50</td>\n",
              "      <td>0</td>\n",
              "    </tr>\n",
              "    <tr>\n",
              "      <th>4</th>\n",
              "      <td>2.0</td>\n",
              "      <td>-1.158233</td>\n",
              "      <td>0.877737</td>\n",
              "      <td>1.548718</td>\n",
              "      <td>0.403034</td>\n",
              "      <td>-0.407193</td>\n",
              "      <td>0.095921</td>\n",
              "      <td>0.592941</td>\n",
              "      <td>-0.270533</td>\n",
              "      <td>0.817739</td>\n",
              "      <td>...</td>\n",
              "      <td>-0.009431</td>\n",
              "      <td>0.798278</td>\n",
              "      <td>-0.137458</td>\n",
              "      <td>0.141267</td>\n",
              "      <td>-0.206010</td>\n",
              "      <td>0.502292</td>\n",
              "      <td>0.219422</td>\n",
              "      <td>0.215153</td>\n",
              "      <td>69.99</td>\n",
              "      <td>0</td>\n",
              "    </tr>\n",
              "  </tbody>\n",
              "</table>\n",
              "<p>5 rows × 31 columns</p>\n",
              "</div>\n",
              "    <div class=\"colab-df-buttons\">\n",
              "\n",
              "  <div class=\"colab-df-container\">\n",
              "    <button class=\"colab-df-convert\" onclick=\"convertToInteractive('df-c7dc588d-9652-492f-a0e8-a3aa462f11df')\"\n",
              "            title=\"Convert this dataframe to an interactive table.\"\n",
              "            style=\"display:none;\">\n",
              "\n",
              "  <svg xmlns=\"http://www.w3.org/2000/svg\" height=\"24px\" viewBox=\"0 -960 960 960\">\n",
              "    <path d=\"M120-120v-720h720v720H120Zm60-500h600v-160H180v160Zm220 220h160v-160H400v160Zm0 220h160v-160H400v160ZM180-400h160v-160H180v160Zm440 0h160v-160H620v160ZM180-180h160v-160H180v160Zm440 0h160v-160H620v160Z\"/>\n",
              "  </svg>\n",
              "    </button>\n",
              "\n",
              "  <style>\n",
              "    .colab-df-container {\n",
              "      display:flex;\n",
              "      gap: 12px;\n",
              "    }\n",
              "\n",
              "    .colab-df-convert {\n",
              "      background-color: #E8F0FE;\n",
              "      border: none;\n",
              "      border-radius: 50%;\n",
              "      cursor: pointer;\n",
              "      display: none;\n",
              "      fill: #1967D2;\n",
              "      height: 32px;\n",
              "      padding: 0 0 0 0;\n",
              "      width: 32px;\n",
              "    }\n",
              "\n",
              "    .colab-df-convert:hover {\n",
              "      background-color: #E2EBFA;\n",
              "      box-shadow: 0px 1px 2px rgba(60, 64, 67, 0.3), 0px 1px 3px 1px rgba(60, 64, 67, 0.15);\n",
              "      fill: #174EA6;\n",
              "    }\n",
              "\n",
              "    .colab-df-buttons div {\n",
              "      margin-bottom: 4px;\n",
              "    }\n",
              "\n",
              "    [theme=dark] .colab-df-convert {\n",
              "      background-color: #3B4455;\n",
              "      fill: #D2E3FC;\n",
              "    }\n",
              "\n",
              "    [theme=dark] .colab-df-convert:hover {\n",
              "      background-color: #434B5C;\n",
              "      box-shadow: 0px 1px 3px 1px rgba(0, 0, 0, 0.15);\n",
              "      filter: drop-shadow(0px 1px 2px rgba(0, 0, 0, 0.3));\n",
              "      fill: #FFFFFF;\n",
              "    }\n",
              "  </style>\n",
              "\n",
              "    <script>\n",
              "      const buttonEl =\n",
              "        document.querySelector('#df-c7dc588d-9652-492f-a0e8-a3aa462f11df button.colab-df-convert');\n",
              "      buttonEl.style.display =\n",
              "        google.colab.kernel.accessAllowed ? 'block' : 'none';\n",
              "\n",
              "      async function convertToInteractive(key) {\n",
              "        const element = document.querySelector('#df-c7dc588d-9652-492f-a0e8-a3aa462f11df');\n",
              "        const dataTable =\n",
              "          await google.colab.kernel.invokeFunction('convertToInteractive',\n",
              "                                                    [key], {});\n",
              "        if (!dataTable) return;\n",
              "\n",
              "        const docLinkHtml = 'Like what you see? Visit the ' +\n",
              "          '<a target=\"_blank\" href=https://colab.research.google.com/notebooks/data_table.ipynb>data table notebook</a>'\n",
              "          + ' to learn more about interactive tables.';\n",
              "        element.innerHTML = '';\n",
              "        dataTable['output_type'] = 'display_data';\n",
              "        await google.colab.output.renderOutput(dataTable, element);\n",
              "        const docLink = document.createElement('div');\n",
              "        docLink.innerHTML = docLinkHtml;\n",
              "        element.appendChild(docLink);\n",
              "      }\n",
              "    </script>\n",
              "  </div>\n",
              "\n",
              "\n",
              "<div id=\"df-46d035c4-cc86-47f8-bd08-9efabecf270c\">\n",
              "  <button class=\"colab-df-quickchart\" onclick=\"quickchart('df-46d035c4-cc86-47f8-bd08-9efabecf270c')\"\n",
              "            title=\"Suggest charts\"\n",
              "            style=\"display:none;\">\n",
              "\n",
              "<svg xmlns=\"http://www.w3.org/2000/svg\" height=\"24px\"viewBox=\"0 0 24 24\"\n",
              "     width=\"24px\">\n",
              "    <g>\n",
              "        <path d=\"M19 3H5c-1.1 0-2 .9-2 2v14c0 1.1.9 2 2 2h14c1.1 0 2-.9 2-2V5c0-1.1-.9-2-2-2zM9 17H7v-7h2v7zm4 0h-2V7h2v10zm4 0h-2v-4h2v4z\"/>\n",
              "    </g>\n",
              "</svg>\n",
              "  </button>\n",
              "\n",
              "<style>\n",
              "  .colab-df-quickchart {\n",
              "      --bg-color: #E8F0FE;\n",
              "      --fill-color: #1967D2;\n",
              "      --hover-bg-color: #E2EBFA;\n",
              "      --hover-fill-color: #174EA6;\n",
              "      --disabled-fill-color: #AAA;\n",
              "      --disabled-bg-color: #DDD;\n",
              "  }\n",
              "\n",
              "  [theme=dark] .colab-df-quickchart {\n",
              "      --bg-color: #3B4455;\n",
              "      --fill-color: #D2E3FC;\n",
              "      --hover-bg-color: #434B5C;\n",
              "      --hover-fill-color: #FFFFFF;\n",
              "      --disabled-bg-color: #3B4455;\n",
              "      --disabled-fill-color: #666;\n",
              "  }\n",
              "\n",
              "  .colab-df-quickchart {\n",
              "    background-color: var(--bg-color);\n",
              "    border: none;\n",
              "    border-radius: 50%;\n",
              "    cursor: pointer;\n",
              "    display: none;\n",
              "    fill: var(--fill-color);\n",
              "    height: 32px;\n",
              "    padding: 0;\n",
              "    width: 32px;\n",
              "  }\n",
              "\n",
              "  .colab-df-quickchart:hover {\n",
              "    background-color: var(--hover-bg-color);\n",
              "    box-shadow: 0 1px 2px rgba(60, 64, 67, 0.3), 0 1px 3px 1px rgba(60, 64, 67, 0.15);\n",
              "    fill: var(--button-hover-fill-color);\n",
              "  }\n",
              "\n",
              "  .colab-df-quickchart-complete:disabled,\n",
              "  .colab-df-quickchart-complete:disabled:hover {\n",
              "    background-color: var(--disabled-bg-color);\n",
              "    fill: var(--disabled-fill-color);\n",
              "    box-shadow: none;\n",
              "  }\n",
              "\n",
              "  .colab-df-spinner {\n",
              "    border: 2px solid var(--fill-color);\n",
              "    border-color: transparent;\n",
              "    border-bottom-color: var(--fill-color);\n",
              "    animation:\n",
              "      spin 1s steps(1) infinite;\n",
              "  }\n",
              "\n",
              "  @keyframes spin {\n",
              "    0% {\n",
              "      border-color: transparent;\n",
              "      border-bottom-color: var(--fill-color);\n",
              "      border-left-color: var(--fill-color);\n",
              "    }\n",
              "    20% {\n",
              "      border-color: transparent;\n",
              "      border-left-color: var(--fill-color);\n",
              "      border-top-color: var(--fill-color);\n",
              "    }\n",
              "    30% {\n",
              "      border-color: transparent;\n",
              "      border-left-color: var(--fill-color);\n",
              "      border-top-color: var(--fill-color);\n",
              "      border-right-color: var(--fill-color);\n",
              "    }\n",
              "    40% {\n",
              "      border-color: transparent;\n",
              "      border-right-color: var(--fill-color);\n",
              "      border-top-color: var(--fill-color);\n",
              "    }\n",
              "    60% {\n",
              "      border-color: transparent;\n",
              "      border-right-color: var(--fill-color);\n",
              "    }\n",
              "    80% {\n",
              "      border-color: transparent;\n",
              "      border-right-color: var(--fill-color);\n",
              "      border-bottom-color: var(--fill-color);\n",
              "    }\n",
              "    90% {\n",
              "      border-color: transparent;\n",
              "      border-bottom-color: var(--fill-color);\n",
              "    }\n",
              "  }\n",
              "</style>\n",
              "\n",
              "  <script>\n",
              "    async function quickchart(key) {\n",
              "      const quickchartButtonEl =\n",
              "        document.querySelector('#' + key + ' button');\n",
              "      quickchartButtonEl.disabled = true;  // To prevent multiple clicks.\n",
              "      quickchartButtonEl.classList.add('colab-df-spinner');\n",
              "      try {\n",
              "        const charts = await google.colab.kernel.invokeFunction(\n",
              "            'suggestCharts', [key], {});\n",
              "      } catch (error) {\n",
              "        console.error('Error during call to suggestCharts:', error);\n",
              "      }\n",
              "      quickchartButtonEl.classList.remove('colab-df-spinner');\n",
              "      quickchartButtonEl.classList.add('colab-df-quickchart-complete');\n",
              "    }\n",
              "    (() => {\n",
              "      let quickchartButtonEl =\n",
              "        document.querySelector('#df-46d035c4-cc86-47f8-bd08-9efabecf270c button');\n",
              "      quickchartButtonEl.style.display =\n",
              "        google.colab.kernel.accessAllowed ? 'block' : 'none';\n",
              "    })();\n",
              "  </script>\n",
              "</div>\n",
              "    </div>\n",
              "  </div>\n"
            ],
            "application/vnd.google.colaboratory.intrinsic+json": {
              "type": "dataframe",
              "variable_name": "df"
            }
          },
          "metadata": {},
          "execution_count": 4
        }
      ]
    },
    {
      "cell_type": "code",
      "source": [
        "# Check for missing values in each column\n",
        "missing_values = df.isnull().sum()\n",
        "\n",
        "# Display the columns with the count of missing values\n",
        "print(missing_values)\n",
        "\n",
        "# Calculate the total number of missing values\n",
        "total_missing = missing_values.sum()\n",
        "\n",
        "# Display appropriate message based on the count of missing values\n",
        "if total_missing == 0:\n",
        "    print(\"\\nThere are no missing values.\")\n",
        "else:\n",
        "    print(f\"\\nThere are {total_missing} missing values.\")"
      ],
      "metadata": {
        "colab": {
          "base_uri": "https://localhost:8080/"
        },
        "id": "6brKmdCSEW_K",
        "outputId": "a7bce357-9104-4a35-aa2c-812e3aeaa6ee"
      },
      "execution_count": 5,
      "outputs": [
        {
          "output_type": "stream",
          "name": "stdout",
          "text": [
            "Time      0\n",
            "V1        0\n",
            "V2        0\n",
            "V3        0\n",
            "V4        0\n",
            "V5        0\n",
            "V6        0\n",
            "V7        0\n",
            "V8        0\n",
            "V9        0\n",
            "V10       0\n",
            "V11       0\n",
            "V12       0\n",
            "V13       0\n",
            "V14       0\n",
            "V15       0\n",
            "V16       0\n",
            "V17       0\n",
            "V18       0\n",
            "V19       0\n",
            "V20       0\n",
            "V21       0\n",
            "V22       0\n",
            "V23       0\n",
            "V24       0\n",
            "V25       0\n",
            "V26       0\n",
            "V27       0\n",
            "V28       0\n",
            "Amount    0\n",
            "Class     0\n",
            "dtype: int64\n",
            "\n",
            "There are no missing values.\n"
          ]
        }
      ]
    },
    {
      "cell_type": "code",
      "source": [
        "from sklearn.preprocessing import StandardScaler\n",
        "\n",
        "# Initialize the StandardScaler\n",
        "scaler = StandardScaler()\n",
        "\n",
        "# Create new columns for the scaled versions\n",
        "df['time_scaled'] = scaler.fit_transform(df[['Time']])\n",
        "df['amount_scaled'] = scaler.fit_transform(df[['Amount']])"
      ],
      "metadata": {
        "id": "zLr-gqMl2JQS"
      },
      "execution_count": 6,
      "outputs": []
    },
    {
      "cell_type": "code",
      "source": [
        "# Drop the original 'time' and 'amount' columns\n",
        "df.drop(['Time', 'Amount'], axis=1, inplace=True)\n",
        "\n",
        "df"
      ],
      "metadata": {
        "colab": {
          "base_uri": "https://localhost:8080/",
          "height": 444
        },
        "id": "INwv98USUvYR",
        "outputId": "0c4cd4a7-62a5-46bf-c13a-6bb5567ae917"
      },
      "execution_count": 7,
      "outputs": [
        {
          "output_type": "execute_result",
          "data": {
            "text/plain": [
              "               V1         V2        V3        V4        V5        V6  \\\n",
              "0       -1.359807  -0.072781  2.536347  1.378155 -0.338321  0.462388   \n",
              "1        1.191857   0.266151  0.166480  0.448154  0.060018 -0.082361   \n",
              "2       -1.358354  -1.340163  1.773209  0.379780 -0.503198  1.800499   \n",
              "3       -0.966272  -0.185226  1.792993 -0.863291 -0.010309  1.247203   \n",
              "4       -1.158233   0.877737  1.548718  0.403034 -0.407193  0.095921   \n",
              "...           ...        ...       ...       ...       ...       ...   \n",
              "284802 -11.881118  10.071785 -9.834783 -2.066656 -5.364473 -2.606837   \n",
              "284803  -0.732789  -0.055080  2.035030 -0.738589  0.868229  1.058415   \n",
              "284804   1.919565  -0.301254 -3.249640 -0.557828  2.630515  3.031260   \n",
              "284805  -0.240440   0.530483  0.702510  0.689799 -0.377961  0.623708   \n",
              "284806  -0.533413  -0.189733  0.703337 -0.506271 -0.012546 -0.649617   \n",
              "\n",
              "              V7        V8        V9       V10  ...       V22       V23  \\\n",
              "0       0.239599  0.098698  0.363787  0.090794  ...  0.277838 -0.110474   \n",
              "1      -0.078803  0.085102 -0.255425 -0.166974  ... -0.638672  0.101288   \n",
              "2       0.791461  0.247676 -1.514654  0.207643  ...  0.771679  0.909412   \n",
              "3       0.237609  0.377436 -1.387024 -0.054952  ...  0.005274 -0.190321   \n",
              "4       0.592941 -0.270533  0.817739  0.753074  ...  0.798278 -0.137458   \n",
              "...          ...       ...       ...       ...  ...       ...       ...   \n",
              "284802 -4.918215  7.305334  1.914428  4.356170  ...  0.111864  1.014480   \n",
              "284803  0.024330  0.294869  0.584800 -0.975926  ...  0.924384  0.012463   \n",
              "284804 -0.296827  0.708417  0.432454 -0.484782  ...  0.578229 -0.037501   \n",
              "284805 -0.686180  0.679145  0.392087 -0.399126  ...  0.800049 -0.163298   \n",
              "284806  1.577006 -0.414650  0.486180 -0.915427  ...  0.643078  0.376777   \n",
              "\n",
              "             V24       V25       V26       V27       V28  Class  time_scaled  \\\n",
              "0       0.066928  0.128539 -0.189115  0.133558 -0.021053      0    -1.996583   \n",
              "1      -0.339846  0.167170  0.125895 -0.008983  0.014724      0    -1.996583   \n",
              "2      -0.689281 -0.327642 -0.139097 -0.055353 -0.059752      0    -1.996562   \n",
              "3      -1.175575  0.647376 -0.221929  0.062723  0.061458      0    -1.996562   \n",
              "4       0.141267 -0.206010  0.502292  0.219422  0.215153      0    -1.996541   \n",
              "...          ...       ...       ...       ...       ...    ...          ...   \n",
              "284802 -0.509348  1.436807  0.250034  0.943651  0.823731      0     1.641931   \n",
              "284803 -1.016226 -0.606624 -0.395255  0.068472 -0.053527      0     1.641952   \n",
              "284804  0.640134  0.265745 -0.087371  0.004455 -0.026561      0     1.641974   \n",
              "284805  0.123205 -0.569159  0.546668  0.108821  0.104533      0     1.641974   \n",
              "284806  0.008797 -0.473649 -0.818267 -0.002415  0.013649      0     1.642058   \n",
              "\n",
              "        amount_scaled  \n",
              "0            0.244964  \n",
              "1           -0.342475  \n",
              "2            1.160686  \n",
              "3            0.140534  \n",
              "4           -0.073403  \n",
              "...               ...  \n",
              "284802      -0.350151  \n",
              "284803      -0.254117  \n",
              "284804      -0.081839  \n",
              "284805      -0.313249  \n",
              "284806       0.514355  \n",
              "\n",
              "[284807 rows x 31 columns]"
            ],
            "text/html": [
              "\n",
              "  <div id=\"df-10e248c4-6152-47a4-bcf6-9d3a4ae794c3\" class=\"colab-df-container\">\n",
              "    <div>\n",
              "<style scoped>\n",
              "    .dataframe tbody tr th:only-of-type {\n",
              "        vertical-align: middle;\n",
              "    }\n",
              "\n",
              "    .dataframe tbody tr th {\n",
              "        vertical-align: top;\n",
              "    }\n",
              "\n",
              "    .dataframe thead th {\n",
              "        text-align: right;\n",
              "    }\n",
              "</style>\n",
              "<table border=\"1\" class=\"dataframe\">\n",
              "  <thead>\n",
              "    <tr style=\"text-align: right;\">\n",
              "      <th></th>\n",
              "      <th>V1</th>\n",
              "      <th>V2</th>\n",
              "      <th>V3</th>\n",
              "      <th>V4</th>\n",
              "      <th>V5</th>\n",
              "      <th>V6</th>\n",
              "      <th>V7</th>\n",
              "      <th>V8</th>\n",
              "      <th>V9</th>\n",
              "      <th>V10</th>\n",
              "      <th>...</th>\n",
              "      <th>V22</th>\n",
              "      <th>V23</th>\n",
              "      <th>V24</th>\n",
              "      <th>V25</th>\n",
              "      <th>V26</th>\n",
              "      <th>V27</th>\n",
              "      <th>V28</th>\n",
              "      <th>Class</th>\n",
              "      <th>time_scaled</th>\n",
              "      <th>amount_scaled</th>\n",
              "    </tr>\n",
              "  </thead>\n",
              "  <tbody>\n",
              "    <tr>\n",
              "      <th>0</th>\n",
              "      <td>-1.359807</td>\n",
              "      <td>-0.072781</td>\n",
              "      <td>2.536347</td>\n",
              "      <td>1.378155</td>\n",
              "      <td>-0.338321</td>\n",
              "      <td>0.462388</td>\n",
              "      <td>0.239599</td>\n",
              "      <td>0.098698</td>\n",
              "      <td>0.363787</td>\n",
              "      <td>0.090794</td>\n",
              "      <td>...</td>\n",
              "      <td>0.277838</td>\n",
              "      <td>-0.110474</td>\n",
              "      <td>0.066928</td>\n",
              "      <td>0.128539</td>\n",
              "      <td>-0.189115</td>\n",
              "      <td>0.133558</td>\n",
              "      <td>-0.021053</td>\n",
              "      <td>0</td>\n",
              "      <td>-1.996583</td>\n",
              "      <td>0.244964</td>\n",
              "    </tr>\n",
              "    <tr>\n",
              "      <th>1</th>\n",
              "      <td>1.191857</td>\n",
              "      <td>0.266151</td>\n",
              "      <td>0.166480</td>\n",
              "      <td>0.448154</td>\n",
              "      <td>0.060018</td>\n",
              "      <td>-0.082361</td>\n",
              "      <td>-0.078803</td>\n",
              "      <td>0.085102</td>\n",
              "      <td>-0.255425</td>\n",
              "      <td>-0.166974</td>\n",
              "      <td>...</td>\n",
              "      <td>-0.638672</td>\n",
              "      <td>0.101288</td>\n",
              "      <td>-0.339846</td>\n",
              "      <td>0.167170</td>\n",
              "      <td>0.125895</td>\n",
              "      <td>-0.008983</td>\n",
              "      <td>0.014724</td>\n",
              "      <td>0</td>\n",
              "      <td>-1.996583</td>\n",
              "      <td>-0.342475</td>\n",
              "    </tr>\n",
              "    <tr>\n",
              "      <th>2</th>\n",
              "      <td>-1.358354</td>\n",
              "      <td>-1.340163</td>\n",
              "      <td>1.773209</td>\n",
              "      <td>0.379780</td>\n",
              "      <td>-0.503198</td>\n",
              "      <td>1.800499</td>\n",
              "      <td>0.791461</td>\n",
              "      <td>0.247676</td>\n",
              "      <td>-1.514654</td>\n",
              "      <td>0.207643</td>\n",
              "      <td>...</td>\n",
              "      <td>0.771679</td>\n",
              "      <td>0.909412</td>\n",
              "      <td>-0.689281</td>\n",
              "      <td>-0.327642</td>\n",
              "      <td>-0.139097</td>\n",
              "      <td>-0.055353</td>\n",
              "      <td>-0.059752</td>\n",
              "      <td>0</td>\n",
              "      <td>-1.996562</td>\n",
              "      <td>1.160686</td>\n",
              "    </tr>\n",
              "    <tr>\n",
              "      <th>3</th>\n",
              "      <td>-0.966272</td>\n",
              "      <td>-0.185226</td>\n",
              "      <td>1.792993</td>\n",
              "      <td>-0.863291</td>\n",
              "      <td>-0.010309</td>\n",
              "      <td>1.247203</td>\n",
              "      <td>0.237609</td>\n",
              "      <td>0.377436</td>\n",
              "      <td>-1.387024</td>\n",
              "      <td>-0.054952</td>\n",
              "      <td>...</td>\n",
              "      <td>0.005274</td>\n",
              "      <td>-0.190321</td>\n",
              "      <td>-1.175575</td>\n",
              "      <td>0.647376</td>\n",
              "      <td>-0.221929</td>\n",
              "      <td>0.062723</td>\n",
              "      <td>0.061458</td>\n",
              "      <td>0</td>\n",
              "      <td>-1.996562</td>\n",
              "      <td>0.140534</td>\n",
              "    </tr>\n",
              "    <tr>\n",
              "      <th>4</th>\n",
              "      <td>-1.158233</td>\n",
              "      <td>0.877737</td>\n",
              "      <td>1.548718</td>\n",
              "      <td>0.403034</td>\n",
              "      <td>-0.407193</td>\n",
              "      <td>0.095921</td>\n",
              "      <td>0.592941</td>\n",
              "      <td>-0.270533</td>\n",
              "      <td>0.817739</td>\n",
              "      <td>0.753074</td>\n",
              "      <td>...</td>\n",
              "      <td>0.798278</td>\n",
              "      <td>-0.137458</td>\n",
              "      <td>0.141267</td>\n",
              "      <td>-0.206010</td>\n",
              "      <td>0.502292</td>\n",
              "      <td>0.219422</td>\n",
              "      <td>0.215153</td>\n",
              "      <td>0</td>\n",
              "      <td>-1.996541</td>\n",
              "      <td>-0.073403</td>\n",
              "    </tr>\n",
              "    <tr>\n",
              "      <th>...</th>\n",
              "      <td>...</td>\n",
              "      <td>...</td>\n",
              "      <td>...</td>\n",
              "      <td>...</td>\n",
              "      <td>...</td>\n",
              "      <td>...</td>\n",
              "      <td>...</td>\n",
              "      <td>...</td>\n",
              "      <td>...</td>\n",
              "      <td>...</td>\n",
              "      <td>...</td>\n",
              "      <td>...</td>\n",
              "      <td>...</td>\n",
              "      <td>...</td>\n",
              "      <td>...</td>\n",
              "      <td>...</td>\n",
              "      <td>...</td>\n",
              "      <td>...</td>\n",
              "      <td>...</td>\n",
              "      <td>...</td>\n",
              "      <td>...</td>\n",
              "    </tr>\n",
              "    <tr>\n",
              "      <th>284802</th>\n",
              "      <td>-11.881118</td>\n",
              "      <td>10.071785</td>\n",
              "      <td>-9.834783</td>\n",
              "      <td>-2.066656</td>\n",
              "      <td>-5.364473</td>\n",
              "      <td>-2.606837</td>\n",
              "      <td>-4.918215</td>\n",
              "      <td>7.305334</td>\n",
              "      <td>1.914428</td>\n",
              "      <td>4.356170</td>\n",
              "      <td>...</td>\n",
              "      <td>0.111864</td>\n",
              "      <td>1.014480</td>\n",
              "      <td>-0.509348</td>\n",
              "      <td>1.436807</td>\n",
              "      <td>0.250034</td>\n",
              "      <td>0.943651</td>\n",
              "      <td>0.823731</td>\n",
              "      <td>0</td>\n",
              "      <td>1.641931</td>\n",
              "      <td>-0.350151</td>\n",
              "    </tr>\n",
              "    <tr>\n",
              "      <th>284803</th>\n",
              "      <td>-0.732789</td>\n",
              "      <td>-0.055080</td>\n",
              "      <td>2.035030</td>\n",
              "      <td>-0.738589</td>\n",
              "      <td>0.868229</td>\n",
              "      <td>1.058415</td>\n",
              "      <td>0.024330</td>\n",
              "      <td>0.294869</td>\n",
              "      <td>0.584800</td>\n",
              "      <td>-0.975926</td>\n",
              "      <td>...</td>\n",
              "      <td>0.924384</td>\n",
              "      <td>0.012463</td>\n",
              "      <td>-1.016226</td>\n",
              "      <td>-0.606624</td>\n",
              "      <td>-0.395255</td>\n",
              "      <td>0.068472</td>\n",
              "      <td>-0.053527</td>\n",
              "      <td>0</td>\n",
              "      <td>1.641952</td>\n",
              "      <td>-0.254117</td>\n",
              "    </tr>\n",
              "    <tr>\n",
              "      <th>284804</th>\n",
              "      <td>1.919565</td>\n",
              "      <td>-0.301254</td>\n",
              "      <td>-3.249640</td>\n",
              "      <td>-0.557828</td>\n",
              "      <td>2.630515</td>\n",
              "      <td>3.031260</td>\n",
              "      <td>-0.296827</td>\n",
              "      <td>0.708417</td>\n",
              "      <td>0.432454</td>\n",
              "      <td>-0.484782</td>\n",
              "      <td>...</td>\n",
              "      <td>0.578229</td>\n",
              "      <td>-0.037501</td>\n",
              "      <td>0.640134</td>\n",
              "      <td>0.265745</td>\n",
              "      <td>-0.087371</td>\n",
              "      <td>0.004455</td>\n",
              "      <td>-0.026561</td>\n",
              "      <td>0</td>\n",
              "      <td>1.641974</td>\n",
              "      <td>-0.081839</td>\n",
              "    </tr>\n",
              "    <tr>\n",
              "      <th>284805</th>\n",
              "      <td>-0.240440</td>\n",
              "      <td>0.530483</td>\n",
              "      <td>0.702510</td>\n",
              "      <td>0.689799</td>\n",
              "      <td>-0.377961</td>\n",
              "      <td>0.623708</td>\n",
              "      <td>-0.686180</td>\n",
              "      <td>0.679145</td>\n",
              "      <td>0.392087</td>\n",
              "      <td>-0.399126</td>\n",
              "      <td>...</td>\n",
              "      <td>0.800049</td>\n",
              "      <td>-0.163298</td>\n",
              "      <td>0.123205</td>\n",
              "      <td>-0.569159</td>\n",
              "      <td>0.546668</td>\n",
              "      <td>0.108821</td>\n",
              "      <td>0.104533</td>\n",
              "      <td>0</td>\n",
              "      <td>1.641974</td>\n",
              "      <td>-0.313249</td>\n",
              "    </tr>\n",
              "    <tr>\n",
              "      <th>284806</th>\n",
              "      <td>-0.533413</td>\n",
              "      <td>-0.189733</td>\n",
              "      <td>0.703337</td>\n",
              "      <td>-0.506271</td>\n",
              "      <td>-0.012546</td>\n",
              "      <td>-0.649617</td>\n",
              "      <td>1.577006</td>\n",
              "      <td>-0.414650</td>\n",
              "      <td>0.486180</td>\n",
              "      <td>-0.915427</td>\n",
              "      <td>...</td>\n",
              "      <td>0.643078</td>\n",
              "      <td>0.376777</td>\n",
              "      <td>0.008797</td>\n",
              "      <td>-0.473649</td>\n",
              "      <td>-0.818267</td>\n",
              "      <td>-0.002415</td>\n",
              "      <td>0.013649</td>\n",
              "      <td>0</td>\n",
              "      <td>1.642058</td>\n",
              "      <td>0.514355</td>\n",
              "    </tr>\n",
              "  </tbody>\n",
              "</table>\n",
              "<p>284807 rows × 31 columns</p>\n",
              "</div>\n",
              "    <div class=\"colab-df-buttons\">\n",
              "\n",
              "  <div class=\"colab-df-container\">\n",
              "    <button class=\"colab-df-convert\" onclick=\"convertToInteractive('df-10e248c4-6152-47a4-bcf6-9d3a4ae794c3')\"\n",
              "            title=\"Convert this dataframe to an interactive table.\"\n",
              "            style=\"display:none;\">\n",
              "\n",
              "  <svg xmlns=\"http://www.w3.org/2000/svg\" height=\"24px\" viewBox=\"0 -960 960 960\">\n",
              "    <path d=\"M120-120v-720h720v720H120Zm60-500h600v-160H180v160Zm220 220h160v-160H400v160Zm0 220h160v-160H400v160ZM180-400h160v-160H180v160Zm440 0h160v-160H620v160ZM180-180h160v-160H180v160Zm440 0h160v-160H620v160Z\"/>\n",
              "  </svg>\n",
              "    </button>\n",
              "\n",
              "  <style>\n",
              "    .colab-df-container {\n",
              "      display:flex;\n",
              "      gap: 12px;\n",
              "    }\n",
              "\n",
              "    .colab-df-convert {\n",
              "      background-color: #E8F0FE;\n",
              "      border: none;\n",
              "      border-radius: 50%;\n",
              "      cursor: pointer;\n",
              "      display: none;\n",
              "      fill: #1967D2;\n",
              "      height: 32px;\n",
              "      padding: 0 0 0 0;\n",
              "      width: 32px;\n",
              "    }\n",
              "\n",
              "    .colab-df-convert:hover {\n",
              "      background-color: #E2EBFA;\n",
              "      box-shadow: 0px 1px 2px rgba(60, 64, 67, 0.3), 0px 1px 3px 1px rgba(60, 64, 67, 0.15);\n",
              "      fill: #174EA6;\n",
              "    }\n",
              "\n",
              "    .colab-df-buttons div {\n",
              "      margin-bottom: 4px;\n",
              "    }\n",
              "\n",
              "    [theme=dark] .colab-df-convert {\n",
              "      background-color: #3B4455;\n",
              "      fill: #D2E3FC;\n",
              "    }\n",
              "\n",
              "    [theme=dark] .colab-df-convert:hover {\n",
              "      background-color: #434B5C;\n",
              "      box-shadow: 0px 1px 3px 1px rgba(0, 0, 0, 0.15);\n",
              "      filter: drop-shadow(0px 1px 2px rgba(0, 0, 0, 0.3));\n",
              "      fill: #FFFFFF;\n",
              "    }\n",
              "  </style>\n",
              "\n",
              "    <script>\n",
              "      const buttonEl =\n",
              "        document.querySelector('#df-10e248c4-6152-47a4-bcf6-9d3a4ae794c3 button.colab-df-convert');\n",
              "      buttonEl.style.display =\n",
              "        google.colab.kernel.accessAllowed ? 'block' : 'none';\n",
              "\n",
              "      async function convertToInteractive(key) {\n",
              "        const element = document.querySelector('#df-10e248c4-6152-47a4-bcf6-9d3a4ae794c3');\n",
              "        const dataTable =\n",
              "          await google.colab.kernel.invokeFunction('convertToInteractive',\n",
              "                                                    [key], {});\n",
              "        if (!dataTable) return;\n",
              "\n",
              "        const docLinkHtml = 'Like what you see? Visit the ' +\n",
              "          '<a target=\"_blank\" href=https://colab.research.google.com/notebooks/data_table.ipynb>data table notebook</a>'\n",
              "          + ' to learn more about interactive tables.';\n",
              "        element.innerHTML = '';\n",
              "        dataTable['output_type'] = 'display_data';\n",
              "        await google.colab.output.renderOutput(dataTable, element);\n",
              "        const docLink = document.createElement('div');\n",
              "        docLink.innerHTML = docLinkHtml;\n",
              "        element.appendChild(docLink);\n",
              "      }\n",
              "    </script>\n",
              "  </div>\n",
              "\n",
              "\n",
              "<div id=\"df-7ed3a4b9-035a-4ccd-8382-b65c6bf183a8\">\n",
              "  <button class=\"colab-df-quickchart\" onclick=\"quickchart('df-7ed3a4b9-035a-4ccd-8382-b65c6bf183a8')\"\n",
              "            title=\"Suggest charts\"\n",
              "            style=\"display:none;\">\n",
              "\n",
              "<svg xmlns=\"http://www.w3.org/2000/svg\" height=\"24px\"viewBox=\"0 0 24 24\"\n",
              "     width=\"24px\">\n",
              "    <g>\n",
              "        <path d=\"M19 3H5c-1.1 0-2 .9-2 2v14c0 1.1.9 2 2 2h14c1.1 0 2-.9 2-2V5c0-1.1-.9-2-2-2zM9 17H7v-7h2v7zm4 0h-2V7h2v10zm4 0h-2v-4h2v4z\"/>\n",
              "    </g>\n",
              "</svg>\n",
              "  </button>\n",
              "\n",
              "<style>\n",
              "  .colab-df-quickchart {\n",
              "      --bg-color: #E8F0FE;\n",
              "      --fill-color: #1967D2;\n",
              "      --hover-bg-color: #E2EBFA;\n",
              "      --hover-fill-color: #174EA6;\n",
              "      --disabled-fill-color: #AAA;\n",
              "      --disabled-bg-color: #DDD;\n",
              "  }\n",
              "\n",
              "  [theme=dark] .colab-df-quickchart {\n",
              "      --bg-color: #3B4455;\n",
              "      --fill-color: #D2E3FC;\n",
              "      --hover-bg-color: #434B5C;\n",
              "      --hover-fill-color: #FFFFFF;\n",
              "      --disabled-bg-color: #3B4455;\n",
              "      --disabled-fill-color: #666;\n",
              "  }\n",
              "\n",
              "  .colab-df-quickchart {\n",
              "    background-color: var(--bg-color);\n",
              "    border: none;\n",
              "    border-radius: 50%;\n",
              "    cursor: pointer;\n",
              "    display: none;\n",
              "    fill: var(--fill-color);\n",
              "    height: 32px;\n",
              "    padding: 0;\n",
              "    width: 32px;\n",
              "  }\n",
              "\n",
              "  .colab-df-quickchart:hover {\n",
              "    background-color: var(--hover-bg-color);\n",
              "    box-shadow: 0 1px 2px rgba(60, 64, 67, 0.3), 0 1px 3px 1px rgba(60, 64, 67, 0.15);\n",
              "    fill: var(--button-hover-fill-color);\n",
              "  }\n",
              "\n",
              "  .colab-df-quickchart-complete:disabled,\n",
              "  .colab-df-quickchart-complete:disabled:hover {\n",
              "    background-color: var(--disabled-bg-color);\n",
              "    fill: var(--disabled-fill-color);\n",
              "    box-shadow: none;\n",
              "  }\n",
              "\n",
              "  .colab-df-spinner {\n",
              "    border: 2px solid var(--fill-color);\n",
              "    border-color: transparent;\n",
              "    border-bottom-color: var(--fill-color);\n",
              "    animation:\n",
              "      spin 1s steps(1) infinite;\n",
              "  }\n",
              "\n",
              "  @keyframes spin {\n",
              "    0% {\n",
              "      border-color: transparent;\n",
              "      border-bottom-color: var(--fill-color);\n",
              "      border-left-color: var(--fill-color);\n",
              "    }\n",
              "    20% {\n",
              "      border-color: transparent;\n",
              "      border-left-color: var(--fill-color);\n",
              "      border-top-color: var(--fill-color);\n",
              "    }\n",
              "    30% {\n",
              "      border-color: transparent;\n",
              "      border-left-color: var(--fill-color);\n",
              "      border-top-color: var(--fill-color);\n",
              "      border-right-color: var(--fill-color);\n",
              "    }\n",
              "    40% {\n",
              "      border-color: transparent;\n",
              "      border-right-color: var(--fill-color);\n",
              "      border-top-color: var(--fill-color);\n",
              "    }\n",
              "    60% {\n",
              "      border-color: transparent;\n",
              "      border-right-color: var(--fill-color);\n",
              "    }\n",
              "    80% {\n",
              "      border-color: transparent;\n",
              "      border-right-color: var(--fill-color);\n",
              "      border-bottom-color: var(--fill-color);\n",
              "    }\n",
              "    90% {\n",
              "      border-color: transparent;\n",
              "      border-bottom-color: var(--fill-color);\n",
              "    }\n",
              "  }\n",
              "</style>\n",
              "\n",
              "  <script>\n",
              "    async function quickchart(key) {\n",
              "      const quickchartButtonEl =\n",
              "        document.querySelector('#' + key + ' button');\n",
              "      quickchartButtonEl.disabled = true;  // To prevent multiple clicks.\n",
              "      quickchartButtonEl.classList.add('colab-df-spinner');\n",
              "      try {\n",
              "        const charts = await google.colab.kernel.invokeFunction(\n",
              "            'suggestCharts', [key], {});\n",
              "      } catch (error) {\n",
              "        console.error('Error during call to suggestCharts:', error);\n",
              "      }\n",
              "      quickchartButtonEl.classList.remove('colab-df-spinner');\n",
              "      quickchartButtonEl.classList.add('colab-df-quickchart-complete');\n",
              "    }\n",
              "    (() => {\n",
              "      let quickchartButtonEl =\n",
              "        document.querySelector('#df-7ed3a4b9-035a-4ccd-8382-b65c6bf183a8 button');\n",
              "      quickchartButtonEl.style.display =\n",
              "        google.colab.kernel.accessAllowed ? 'block' : 'none';\n",
              "    })();\n",
              "  </script>\n",
              "</div>\n",
              "    </div>\n",
              "  </div>\n"
            ],
            "application/vnd.google.colaboratory.intrinsic+json": {
              "type": "dataframe",
              "variable_name": "df"
            }
          },
          "metadata": {},
          "execution_count": 7
        }
      ]
    },
    {
      "cell_type": "code",
      "source": [
        "# Calculate the total number of each class\n",
        "class_counts_number = df['Class'].value_counts()\n",
        "\n",
        "print(f\"No Frauds: {class_counts_number[0]} transactions\")\n",
        "print(f\"Frauds: {class_counts_number[1]} transactions\")"
      ],
      "metadata": {
        "colab": {
          "base_uri": "https://localhost:8080/"
        },
        "id": "eP9sDgO1qpB-",
        "outputId": "675d41ae-36c6-4b7c-967e-d675168a0e26"
      },
      "execution_count": 8,
      "outputs": [
        {
          "output_type": "stream",
          "name": "stdout",
          "text": [
            "No Frauds: 284315 transactions\n",
            "Frauds: 492 transactions\n"
          ]
        }
      ]
    },
    {
      "cell_type": "code",
      "source": [
        "# Calculate the percentage of each class\n",
        "class_counts_percentage = df['Class'].value_counts(normalize=True) * 100\n",
        "\n",
        "print(f\"No Frauds: {class_counts_percentage[0]:.2f}% of the dataset\")\n",
        "print(f\"Frauds: {class_counts_percentage[1]:.2f}% of the dataset\")"
      ],
      "metadata": {
        "colab": {
          "base_uri": "https://localhost:8080/"
        },
        "id": "p0haiXo74nlc",
        "outputId": "cb2b13d6-55a5-4f64-e86c-80061d45943e"
      },
      "execution_count": 9,
      "outputs": [
        {
          "output_type": "stream",
          "name": "stdout",
          "text": [
            "No Frauds: 99.83% of the dataset\n",
            "Frauds: 0.17% of the dataset\n"
          ]
        }
      ]
    },
    {
      "cell_type": "code",
      "source": [
        "# Labels for the classes\n",
        "labels = ['No Frauds' if index == 0 else 'Fraud' for index in class_counts_percentage.index]\n",
        "\n",
        "#Plotting\n",
        "plt.figure(figsize=(8, 6))\n",
        "plt.pie(class_counts_percentage, labels=labels, autopct='%1.1f%%', startangle=90)\n",
        "plt.title('Distribution of No Frauds vs Fraud')\n",
        "plt.show()"
      ],
      "metadata": {
        "colab": {
          "base_uri": "https://localhost:8080/",
          "height": 521
        },
        "id": "Dp-H2TwX4uLd",
        "outputId": "dd243f14-b3d3-4104-fabf-7a8b6bc59df6"
      },
      "execution_count": 10,
      "outputs": [
        {
          "output_type": "display_data",
          "data": {
            "text/plain": [
              "<Figure size 800x600 with 1 Axes>"
            ],
            "image/png": "[encoded data removed]"
          },
          "metadata": {}
        }
      ]
    },
    {
      "cell_type": "code",
      "source": [
        "from imblearn.over_sampling import SMOTE\n",
        "from sklearn.model_selection import train_test_split\n",
        "\n",
        "# Separate input features and target variable\n",
        "X = df.drop('Class', axis=1)  # Input features\n",
        "y = df['Class']  # Target variable\n",
        "\n",
        "# Splitting the dataset into training and testing sets\n",
        "X_train, X_test, y_train, y_test = train_test_split(X, y, test_size=0.2, random_state=42)\n",
        "\n",
        "\n",
        "# Apply SMOTE to augment the training set\n",
        "smote = SMOTE(random_state=42)\n",
        "X_train_balanced, y_train_balanced = smote.fit_resample(X_train, y_train)"
      ],
      "metadata": {
        "id": "LxUOJvVumL8p"
      },
      "execution_count": 11,
      "outputs": []
    },
    {
      "cell_type": "code",
      "source": [
        "# Checking the class distribution after applying the combination\n",
        "print(\"After applying SMOTE and Random Undersampling, counts of label '0': {}\".format(sum(y_train_balanced == 0)))\n",
        "print(\"After applying SMOTE and Random Undersampling, counts of label '1': {}\".format(sum(y_train_balanced == 1)))\n",
        "\n",
        "# Calculate the percentage of each class\n",
        "class_percentage_balanced = y_train_balanced.value_counts(normalize=True) * 100\n",
        "\n",
        "print(f\"\\nNo Frauds: {class_percentage_balanced[0]:.2f}% of the dataset\")\n",
        "print(f\"Frauds: {class_percentage_balanced[1]:.2f}% of the dataset\")"
      ],
      "metadata": {
        "colab": {
          "base_uri": "https://localhost:8080/"
        },
        "id": "PPvU1vffWpCM",
        "outputId": "f64aa142-79ae-4f82-eec3-a320d8229ce8"
      },
      "execution_count": 12,
      "outputs": [
        {
          "output_type": "stream",
          "name": "stdout",
          "text": [
            "After applying SMOTE and Random Undersampling, counts of label '0': 227451\n",
            "After applying SMOTE and Random Undersampling, counts of label '1': 227451\n",
            "\n",
            "No Frauds: 50.00% of the dataset\n",
            "Frauds: 50.00% of the dataset\n"
          ]
        }
      ]
    },
    {
      "cell_type": "code",
      "source": [
        "# Calculate the class distribution after resampling\n",
        "original_class_distribution = y_train.value_counts()\n",
        "new_class_distribution = y_train_balanced.value_counts()\n",
        "\n",
        "# Setting up the figure and axes for the subplot\n",
        "fig, ax = plt.subplots(1, 2, figsize=(14, 7))\n",
        "\n",
        "# Original class distribution plot\n",
        "ax[0].bar(original_class_distribution.index, original_class_distribution.values, color=['blue', 'red'])\n",
        "ax[0].set_title('Original Class Distribution')\n",
        "ax[0].set_xticks([0, 1])\n",
        "ax[0].set_xticklabels(['No Frauds', 'Frauds'])\n",
        "ax[0].set_ylabel('Count')\n",
        "\n",
        "# Class distribution after SMOTE plot\n",
        "ax[1].bar(new_class_distribution.index, new_class_distribution.values, color=['blue', 'red'])\n",
        "ax[1].set_title('Class Distribution After SMOTE')\n",
        "ax[1].set_xticks([0, 1])\n",
        "ax[1].set_xticklabels(['No Frauds', 'Frauds'])\n",
        "\n",
        "# Display the plots\n",
        "plt.show()"
      ],
      "metadata": {
        "id": "tG6T9cOWqZtX",
        "colab": {
          "base_uri": "https://localhost:8080/",
          "height": 622
        },
        "outputId": "5a2e2fdb-d9da-4933-874c-46546f244612"
      },
      "execution_count": 13,
      "outputs": [
        {
          "output_type": "display_data",
          "data": {
            "text/plain": [
              "<Figure size 1400x700 with 2 Axes>"
            ],
            "image/png": "[encoded data removed]"
          },
          "metadata": {}
        }
      ]
    },
    {
      "cell_type": "markdown",
      "source": [
        "# Algorithms"
      ],
      "metadata": {
        "id": "x2s13Mlf56L-"
      }
    },
    {
      "cell_type": "code",
      "source": [
        "from sklearn.metrics import accuracy_score, precision_score, recall_score, classification_report,confusion_matrix\n",
        "import seaborn as sns"
      ],
      "metadata": {
        "id": "fEYf5XFYxzGB"
      },
      "execution_count": 14,
      "outputs": []
    },
    {
      "cell_type": "markdown",
      "source": [
        "### Neural Network with Batch Normalization"
      ],
      "metadata": {
        "id": "nKOaBntn59de"
      }
    },
    {
      "cell_type": "code",
      "source": [
        "from tensorflow.keras.models import Sequential\n",
        "from tensorflow.keras.layers import Dense, Dropout, BatchNormalization, Activation"
      ],
      "metadata": {
        "id": "7ZJYfnyZCw_b"
      },
      "execution_count": 15,
      "outputs": []
    },
    {
      "cell_type": "code",
      "source": [
        "# Model architecture for DNN with Batch Normalization\n",
        "model_batch = Sequential([\n",
        "    Dense(64, input_shape=(X_train_balanced.shape[1],)),  # Input layer dimensions should match the number of features\n",
        "    Activation('relu'),  # Activation layer for ReLU\n",
        "    BatchNormalization(),  # Batch Normalization after the first dense layer\n",
        "    Dropout(0.5),  # Dropout after batch normalization\n",
        "\n",
        "    Dense(32),  # Second hidden layer with 32 nodes\n",
        "    Activation('relu'),  # Activation layer for ReLU\n",
        "    BatchNormalization(),  # Batch Normalization after the second dense layer\n",
        "    Dropout(0.5),  # Dropout after batch normalization\n",
        "\n",
        "    Dense(1, activation='sigmoid')  # Output layer with sigmoid activation for binary classification\n",
        "])\n",
        "\n",
        "# Compile the model\n",
        "model_batch.compile(optimizer='adam', loss='binary_crossentropy', metrics=['accuracy'])\n",
        "\n",
        "# Train the model\n",
        "model_batch.fit(X_train_balanced, y_train_balanced, epochs=25, batch_size=32, validation_data=(X_test, y_test))\n",
        "\n",
        "\n"
      ],
      "metadata": {
        "colab": {
          "base_uri": "https://localhost:8080/"
        },
        "id": "0dWbGwcgaSSi",
        "outputId": "5e3a18bf-2e4c-4511-f629-8025c5277f6b"
      },
      "execution_count": null,
      "outputs": [
        {
          "output_type": "stream",
          "name": "stdout",
          "text": [
            "Epoch 1/25\n",
            "14216/14216 [==============================] - 46s 3ms/step - loss: 0.0900 - accuracy: 0.9678 - val_loss: 0.0141 - val_accuracy: 0.9959\n",
            "Epoch 2/25\n",
            "14216/14216 [==============================] - 43s 3ms/step - loss: 0.0479 - accuracy: 0.9847 - val_loss: 0.0122 - val_accuracy: 0.9965\n",
            "Epoch 3/25\n",
            "14216/14216 [==============================] - 41s 3ms/step - loss: 0.0357 - accuracy: 0.9889 - val_loss: 0.0076 - val_accuracy: 0.9982\n",
            "Epoch 4/25\n",
            "14216/14216 [==============================] - 42s 3ms/step - loss: 0.0314 - accuracy: 0.9902 - val_loss: 0.0075 - val_accuracy: 0.9982\n",
            "Epoch 5/25\n",
            "14216/14216 [==============================] - 40s 3ms/step - loss: 0.0289 - accuracy: 0.9913 - val_loss: 0.0060 - val_accuracy: 0.9987\n",
            "Epoch 6/25\n",
            "14216/14216 [==============================] - 41s 3ms/step - loss: 0.0265 - accuracy: 0.9920 - val_loss: 0.0070 - val_accuracy: 0.9983\n",
            "Epoch 7/25\n",
            "14216/14216 [==============================] - 41s 3ms/step - loss: 0.0251 - accuracy: 0.9925 - val_loss: 0.0072 - val_accuracy: 0.9982\n",
            "Epoch 8/25\n",
            "14216/14216 [==============================] - 43s 3ms/step - loss: 0.0240 - accuracy: 0.9929 - val_loss: 0.0062 - val_accuracy: 0.9985\n",
            "Epoch 9/25\n",
            "14216/14216 [==============================] - 43s 3ms/step - loss: 0.0230 - accuracy: 0.9934 - val_loss: 0.0062 - val_accuracy: 0.9986\n",
            "Epoch 10/25\n",
            "14216/14216 [==============================] - 43s 3ms/step - loss: 0.0227 - accuracy: 0.9936 - val_loss: 0.0068 - val_accuracy: 0.9985\n",
            "Epoch 11/25\n",
            "14216/14216 [==============================] - 41s 3ms/step - loss: 0.0209 - accuracy: 0.9941 - val_loss: 0.0065 - val_accuracy: 0.9986\n",
            "Epoch 12/25\n",
            "14216/14216 [==============================] - 41s 3ms/step - loss: 0.0208 - accuracy: 0.9942 - val_loss: 0.0067 - val_accuracy: 0.9984\n",
            "Epoch 13/25\n",
            "14216/14216 [==============================] - 42s 3ms/step - loss: 0.0205 - accuracy: 0.9944 - val_loss: 0.0069 - val_accuracy: 0.9985\n",
            "Epoch 14/25\n",
            "14216/14216 [==============================] - 42s 3ms/step - loss: 0.0196 - accuracy: 0.9946 - val_loss: 0.0064 - val_accuracy: 0.9988\n",
            "Epoch 15/25\n",
            "14216/14216 [==============================] - 42s 3ms/step - loss: 0.0195 - accuracy: 0.9946 - val_loss: 0.0057 - val_accuracy: 0.9989\n",
            "Epoch 16/25\n",
            "14216/14216 [==============================] - 43s 3ms/step - loss: 0.0196 - accuracy: 0.9944 - val_loss: 0.0061 - val_accuracy: 0.9988\n",
            "Epoch 17/25\n",
            "14216/14216 [==============================] - 42s 3ms/step - loss: 0.0189 - accuracy: 0.9948 - val_loss: 0.0046 - val_accuracy: 0.9991\n",
            "Epoch 18/25\n",
            "14216/14216 [==============================] - 41s 3ms/step - loss: 0.0185 - accuracy: 0.9948 - val_loss: 0.0060 - val_accuracy: 0.9989\n",
            "Epoch 19/25\n",
            "14216/14216 [==============================] - 41s 3ms/step - loss: 0.0187 - accuracy: 0.9949 - val_loss: 0.0065 - val_accuracy: 0.9987\n",
            "Epoch 20/25\n",
            "14216/14216 [==============================] - 41s 3ms/step - loss: 0.0178 - accuracy: 0.9952 - val_loss: 0.0058 - val_accuracy: 0.9988\n",
            "Epoch 21/25\n",
            "14216/14216 [==============================] - 41s 3ms/step - loss: 0.0178 - accuracy: 0.9951 - val_loss: 0.0062 - val_accuracy: 0.9988\n",
            "Epoch 22/25\n",
            "14216/14216 [==============================] - 41s 3ms/step - loss: 0.0179 - accuracy: 0.9952 - val_loss: 0.0055 - val_accuracy: 0.9989\n",
            "Epoch 23/25\n",
            "14216/14216 [==============================] - 43s 3ms/step - loss: 0.0172 - accuracy: 0.9953 - val_loss: 0.0063 - val_accuracy: 0.9988\n",
            "Epoch 24/25\n",
            "14216/14216 [==============================] - 43s 3ms/step - loss: 0.0174 - accuracy: 0.9952 - val_loss: 0.0057 - val_accuracy: 0.9989\n",
            "Epoch 25/25\n",
            "14216/14216 [==============================] - 43s 3ms/step - loss: 0.0175 - accuracy: 0.9953 - val_loss: 0.0051 - val_accuracy: 0.9991\n"
          ]
        },
        {
          "output_type": "execute_result",
          "data": {
            "text/plain": [
              "<keras.src.callbacks.History at 0x7971488138e0>"
            ]
          },
          "metadata": {},
          "execution_count": 19
        }
      ]
    },
    {
      "cell_type": "code",
      "source": [
        "\n",
        "# Making predictions on the test set\n",
        "y_pred = model_batch.predict(X_test)\n",
        "y_pred_batch = (y_pred > 0.5).astype(\"int32\")\n",
        "\n",
        "# Evaluating the model\n",
        "accuracy_batch = accuracy_score(y_test, y_pred_batch)\n",
        "precision_batch = precision_score(y_test, y_pred_batch)\n",
        "recall_batch = recall_score(y_test, y_pred_batch)\n",
        "\n",
        "print(\"Neural Network Batch:\\n\" + \"-\" * 15)\n",
        "print(f\"Accuracy: {accuracy_batch:.4f}\")\n",
        "print(f\"Precision: {precision_batch:.4f}\")\n",
        "print(f\"Recall: {recall_batch:.4f}\")\n"
      ],
      "metadata": {
        "colab": {
          "base_uri": "https://localhost:8080/"
        },
        "id": "fKtrDA7zbdz0",
        "outputId": "87bbb7a6-ddaa-46ee-8330-b4f2db53f4bf"
      },
      "execution_count": null,
      "outputs": [
        {
          "output_type": "stream",
          "name": "stdout",
          "text": [
            "1781/1781 [==============================] - 3s 1ms/step\n",
            "Neural Network Batch:\n",
            "---------------\n",
            "Accuracy: 0.9991\n",
            "Precision: 0.6829\n",
            "Recall: 0.8571\n"
          ]
        }
      ]
    },
    {
      "cell_type": "code",
      "source": [
        "\n",
        "# Compute the confusion matrix\n",
        "conf_matrix_batch = confusion_matrix(y_test, y_pred_batch)\n",
        "\n",
        "# Plot the confusion matrix using seaborn\n",
        "plt.figure(figsize=(8, 6))\n",
        "sns.heatmap(conf_matrix_batch, annot=True, fmt='d', cmap='Blues', xticklabels=['Predicted Negative', 'Predicted Positive'], yticklabels=['Actual Negative', 'Actual Positive'])\n",
        "plt.ylabel('Actual')\n",
        "plt.xlabel('Predicted')\n",
        "plt.title('Confusion Matrix Neural Network')\n",
        "plt.show()"
      ],
      "metadata": {
        "colab": {
          "base_uri": "https://localhost:8080/",
          "height": 564
        },
        "id": "qtZTc1nJ7GXJ",
        "outputId": "38618bce-d7df-4458-b2fd-c36c8012a2ff"
      },
      "execution_count": null,
      "outputs": [
        {
          "output_type": "display_data",
          "data": {
            "text/plain": [
              "<Figure size 800x600 with 2 Axes>"
            ],
            "image/png": "[encoded data removed]"
          },
          "metadata": {}
        }
      ]
    },
    {
      "cell_type": "markdown",
      "source": [
        "###Deep Neural Network"
      ],
      "metadata": {
        "id": "A8BCtqcfy4Q0"
      }
    },
    {
      "cell_type": "code",
      "source": [
        "\n",
        "# Neural network architecture\n",
        "model = Sequential([\n",
        "    Dense(64, activation='relu', input_shape=(X_train_balanced.shape[1],)),\n",
        "    Dense(32, activation='relu'),\n",
        "    Dense(16, activation='relu'),\n",
        "    Dense(1, activation='sigmoid')\n",
        "])\n",
        "\n",
        "# Compile the model\n",
        "model.compile(optimizer='adam', loss='binary_crossentropy', metrics=['accuracy'])\n",
        "\n",
        "# Train the model\n",
        "model.fit(X_train_balanced, y_train_balanced, epochs=25, batch_size=32, validation_data=(X_test, y_test))\n",
        "\n"
      ],
      "metadata": {
        "colab": {
          "base_uri": "https://localhost:8080/"
        },
        "id": "ZreGsydezMXX",
        "outputId": "7f5bffab-c68f-4023-d2bd-aa7aef31d8c0"
      },
      "execution_count": null,
      "outputs": [
        {
          "output_type": "stream",
          "name": "stdout",
          "text": [
            "Epoch 1/25\n",
            "14216/14216 [==============================] - 35s 2ms/step - loss: 0.0154 - accuracy: 0.9954 - val_loss: 0.0096 - val_accuracy: 0.9982\n",
            "Epoch 2/25\n",
            "14216/14216 [==============================] - 33s 2ms/step - loss: 0.0049 - accuracy: 0.9989 - val_loss: 0.0117 - val_accuracy: 0.9986\n",
            "Epoch 3/25\n",
            "14216/14216 [==============================] - 35s 2ms/step - loss: 0.0040 - accuracy: 0.9991 - val_loss: 0.0100 - val_accuracy: 0.9986\n",
            "Epoch 4/25\n",
            "14216/14216 [==============================] - 33s 2ms/step - loss: 0.0031 - accuracy: 0.9993 - val_loss: 0.0093 - val_accuracy: 0.9991\n",
            "Epoch 5/25\n",
            "14216/14216 [==============================] - 35s 2ms/step - loss: 0.0028 - accuracy: 0.9994 - val_loss: 0.0097 - val_accuracy: 0.9989\n",
            "Epoch 6/25\n",
            "14216/14216 [==============================] - 33s 2ms/step - loss: 0.0025 - accuracy: 0.9995 - val_loss: 0.0089 - val_accuracy: 0.9989\n",
            "Epoch 7/25\n",
            "14216/14216 [==============================] - 32s 2ms/step - loss: 0.0021 - accuracy: 0.9996 - val_loss: 0.0097 - val_accuracy: 0.9990\n",
            "Epoch 8/25\n",
            "14216/14216 [==============================] - 35s 2ms/step - loss: 0.0019 - accuracy: 0.9996 - val_loss: 0.0101 - val_accuracy: 0.9989\n",
            "Epoch 9/25\n",
            "14216/14216 [==============================] - 33s 2ms/step - loss: 0.0018 - accuracy: 0.9996 - val_loss: 0.0123 - val_accuracy: 0.9982\n",
            "Epoch 10/25\n",
            "14216/14216 [==============================] - 33s 2ms/step - loss: 0.0017 - accuracy: 0.9996 - val_loss: 0.0095 - val_accuracy: 0.9993\n",
            "Epoch 11/25\n",
            "14216/14216 [==============================] - 34s 2ms/step - loss: 0.0016 - accuracy: 0.9997 - val_loss: 0.0093 - val_accuracy: 0.9989\n",
            "Epoch 12/25\n",
            "14216/14216 [==============================] - 32s 2ms/step - loss: 0.0015 - accuracy: 0.9997 - val_loss: 0.0110 - val_accuracy: 0.9992\n",
            "Epoch 13/25\n",
            "14216/14216 [==============================] - 35s 2ms/step - loss: 0.0013 - accuracy: 0.9997 - val_loss: 0.0108 - val_accuracy: 0.9991\n",
            "Epoch 14/25\n",
            "14216/14216 [==============================] - 32s 2ms/step - loss: 0.0015 - accuracy: 0.9997 - val_loss: 0.0096 - val_accuracy: 0.9990\n",
            "Epoch 15/25\n",
            "14216/14216 [==============================] - 32s 2ms/step - loss: 0.0014 - accuracy: 0.9997 - val_loss: 0.0080 - val_accuracy: 0.9990\n",
            "Epoch 16/25\n",
            "14216/14216 [==============================] - 37s 3ms/step - loss: 0.0011 - accuracy: 0.9997 - val_loss: 0.0121 - val_accuracy: 0.9992\n",
            "Epoch 17/25\n",
            "14216/14216 [==============================] - 33s 2ms/step - loss: 0.0012 - accuracy: 0.9998 - val_loss: 0.0120 - val_accuracy: 0.9991\n",
            "Epoch 18/25\n",
            "14216/14216 [==============================] - 34s 2ms/step - loss: 0.0012 - accuracy: 0.9998 - val_loss: 0.0099 - val_accuracy: 0.9992\n",
            "Epoch 19/25\n",
            "14216/14216 [==============================] - 33s 2ms/step - loss: 9.7832e-04 - accuracy: 0.9998 - val_loss: 0.0103 - val_accuracy: 0.9992\n",
            "Epoch 20/25\n",
            "14216/14216 [==============================] - 33s 2ms/step - loss: 0.0011 - accuracy: 0.9998 - val_loss: 0.0112 - val_accuracy: 0.9991\n",
            "Epoch 21/25\n",
            "14216/14216 [==============================] - 36s 3ms/step - loss: 0.0010 - accuracy: 0.9998 - val_loss: 0.0099 - val_accuracy: 0.9991\n",
            "Epoch 22/25\n",
            "14216/14216 [==============================] - 34s 2ms/step - loss: 0.0010 - accuracy: 0.9998 - val_loss: 0.0102 - val_accuracy: 0.9991\n",
            "Epoch 23/25\n",
            "14216/14216 [==============================] - 37s 3ms/step - loss: 8.5548e-04 - accuracy: 0.9998 - val_loss: 0.0097 - val_accuracy: 0.9992\n",
            "Epoch 24/25\n",
            "14216/14216 [==============================] - 34s 2ms/step - loss: 8.1537e-04 - accuracy: 0.9998 - val_loss: 0.0125 - val_accuracy: 0.9992\n",
            "Epoch 25/25\n",
            "14216/14216 [==============================] - 37s 3ms/step - loss: 0.0011 - accuracy: 0.9998 - val_loss: 0.0088 - val_accuracy: 0.9992\n"
          ]
        },
        {
          "output_type": "execute_result",
          "data": {
            "text/plain": [
              "<keras.src.callbacks.History at 0x797141f1b430>"
            ]
          },
          "metadata": {},
          "execution_count": 22
        }
      ]
    },
    {
      "cell_type": "code",
      "source": [
        "\n",
        "# Making predictions on the test set\n",
        "y_pred = model.predict(X_test)\n",
        "y_pred_classes = (y_pred > 0.5).astype(\"int32\")  # Converting probabilities to class labels (0 or 1)\n",
        "\n",
        "# Evaluating the model\n",
        "accuracy_nn = accuracy_score(y_test, y_pred_classes)\n",
        "precision_nn = precision_score(y_test, y_pred_classes)\n",
        "recall_nn = recall_score(y_test, y_pred_classes)\n",
        "\n",
        "print(\"Neural Network:\\n\" + \"-\" * 15)\n",
        "print(f\"Accuracy: {accuracy_nn:.4f}\")\n",
        "print(f\"Precision: {precision_nn:.4f}\")\n",
        "print(f\"Recall: {recall_nn:.4f}\")\n"
      ],
      "metadata": {
        "colab": {
          "base_uri": "https://localhost:8080/"
        },
        "id": "S3-ldYN11Toc",
        "outputId": "a55e0331-3911-4bca-8440-002290c6d472"
      },
      "execution_count": null,
      "outputs": [
        {
          "output_type": "stream",
          "name": "stdout",
          "text": [
            "1781/1781 [==============================] - 6s 3ms/step\n",
            "Neural Network:\n",
            "---------------\n",
            "Accuracy: 0.9992\n",
            "Precision: 0.7193\n",
            "Recall: 0.8367\n"
          ]
        }
      ]
    },
    {
      "cell_type": "code",
      "source": [
        "# Compute the confusion matrix\n",
        "conf_matrix_nn = confusion_matrix(y_test, y_pred_classes)\n",
        "\n",
        "# Plot the confusion matrix using seaborn\n",
        "plt.figure(figsize=(8, 6))\n",
        "sns.heatmap(conf_matrix_nn, annot=True, fmt='d', cmap='Blues', xticklabels=['Predicted Negative', 'Predicted Positive'], yticklabels=['Actual Negative', 'Actual Positive'])\n",
        "plt.ylabel('Actual')\n",
        "plt.xlabel('Predicted')\n",
        "plt.title('Confusion Matrix')\n",
        "plt.show()"
      ],
      "metadata": {
        "colab": {
          "base_uri": "https://localhost:8080/",
          "height": 564
        },
        "id": "FBLYENiB8zIF",
        "outputId": "4ce7e9c6-9b41-4172-c915-9af32ec74096"
      },
      "execution_count": null,
      "outputs": [
        {
          "output_type": "display_data",
          "data": {
            "text/plain": [
              "<Figure size 800x600 with 2 Axes>"
            ],
            "image/png": "[encoded data removed]"
          },
          "metadata": {}
        }
      ]
    },
    {
      "cell_type": "markdown",
      "source": [
        "### Random Forest"
      ],
      "metadata": {
        "id": "boAg3Pl-5mdD"
      }
    },
    {
      "cell_type": "code",
      "source": [
        "from sklearn.ensemble import RandomForestClassifier"
      ],
      "metadata": {
        "id": "oMYx_HhwyRrf"
      },
      "execution_count": null,
      "outputs": []
    },
    {
      "cell_type": "code",
      "source": [
        "\n",
        "# Initialize the Random Forest classifier with some sensible defaults\n",
        "rf = RandomForestClassifier(n_estimators=100, max_depth=15, random_state=42)\n",
        "\n",
        "# Train the Random Forest on the balanced training dataset\n",
        "rf.fit(X_train_balanced, y_train_balanced)\n",
        "\n",
        "# Predict on the test set\n",
        "y_pred = rf.predict(X_test)\n",
        "\n",
        "# Evaluate the predictions\n",
        "accuracy = accuracy_score(y_test, y_pred)\n",
        "precision = precision_score(y_test, y_pred)\n",
        "recall = recall_score(y_test, y_pred)\n",
        "\n",
        "print(\"Random Forest Classifier results:\")\n",
        "print(f\"Accuracy: {accuracy:.4f}\")\n",
        "print(f\"Precision: {precision:.4f}\")\n",
        "print(f\"Recall: {recall:.4f}\")\n",
        "\n",
        "# Detailed classification report\n",
        "print(\"\\nClassification Report:\\n\")\n",
        "print(classification_report(y_test, y_pred))"
      ],
      "metadata": {
        "colab": {
          "base_uri": "https://localhost:8080/"
        },
        "id": "4qt8x4B3A9Zk",
        "outputId": "bc912bbe-2ea9-4b79-b91e-3fd6beb327c1"
      },
      "execution_count": null,
      "outputs": [
        {
          "output_type": "stream",
          "name": "stdout",
          "text": [
            "Random Forest Classifier results:\n",
            "Accuracy: 0.9991\n",
            "Precision: 0.6825\n",
            "Recall: 0.8776\n",
            "\n",
            "Classification Report:\n",
            "\n",
            "              precision    recall  f1-score   support\n",
            "\n",
            "           0       1.00      1.00      1.00     56864\n",
            "           1       0.68      0.88      0.77        98\n",
            "\n",
            "    accuracy                           1.00     56962\n",
            "   macro avg       0.84      0.94      0.88     56962\n",
            "weighted avg       1.00      1.00      1.00     56962\n",
            "\n"
          ]
        }
      ]
    },
    {
      "cell_type": "code",
      "source": [
        "#Random Forest Alternative\n",
        "\n",
        "# Initialize the Random Forest classifier\n",
        "clf = RandomForestClassifier(n_estimators=100, random_state=42)\n",
        "\n",
        "# Train the classifier on the balanced training data\n",
        "clf.fit(X_train_balanced, y_train_balanced)\n",
        "\n",
        "# Predict on the test data\n",
        "y_pred = clf.predict(X_test)"
      ],
      "metadata": {
        "id": "WS9VhwN4s7VS"
      },
      "execution_count": null,
      "outputs": []
    },
    {
      "cell_type": "code",
      "source": [
        "# Evaluate the classifier\n",
        "accuracy_rf = accuracy_score(y_test, y_pred)\n",
        "precision_rf = precision_score(y_test, y_pred)\n",
        "recall_rf = recall_score(y_test, y_pred)\n",
        "\n",
        "print(\"Random Forest classifier:\\n\" + \"-\" * 15)\n",
        "print(f\"Accuracy: {accuracy_rf:.4f}\")\n",
        "print(f\"Precision: {precision_rf:.4f}\")\n",
        "print(f\"Recall: {recall_rf:.4f}\")\n",
        "\n",
        "# Detailed classification report\n",
        "print(\"\\nClassification Report:\\n\")\n",
        "print(classification_report(y_test, y_pred))"
      ],
      "metadata": {
        "id": "HwuEU67kc2on",
        "colab": {
          "base_uri": "https://localhost:8080/"
        },
        "outputId": "ce439d08-0cff-458c-f809-efc2a1e2291b"
      },
      "execution_count": null,
      "outputs": [
        {
          "output_type": "stream",
          "name": "stdout",
          "text": [
            "Random Forest classifier:\n",
            "---------------\n",
            "Accuracy: 0.9996\n",
            "Precision: 0.8925\n",
            "Recall: 0.8469\n",
            "\n",
            "Classification Report:\n",
            "\n",
            "              precision    recall  f1-score   support\n",
            "\n",
            "           0       1.00      1.00      1.00     56864\n",
            "           1       0.89      0.85      0.87        98\n",
            "\n",
            "    accuracy                           1.00     56962\n",
            "   macro avg       0.95      0.92      0.93     56962\n",
            "weighted avg       1.00      1.00      1.00     56962\n",
            "\n"
          ]
        }
      ]
    },
    {
      "cell_type": "code",
      "source": [
        "# Compute the confusion matrix\n",
        "conf_matrix_rf = confusion_matrix(y_test, y_pred)\n",
        "\n",
        "# Plot the confusion matrix using seaborn\n",
        "plt.figure(figsize=(8, 6))\n",
        "sns.heatmap(conf_matrix_rf, annot=True, fmt='d', cmap='Blues', xticklabels=['Predicted Negative', 'Predicted Positive'], yticklabels=['Actual Negative', 'Actual Positive'])\n",
        "plt.ylabel('Actual')\n",
        "plt.xlabel('Predicted')\n",
        "plt.title('Confusion Matrix Random Forest')\n",
        "plt.show()"
      ],
      "metadata": {
        "colab": {
          "base_uri": "https://localhost:8080/",
          "height": 564
        },
        "id": "f_Jf2xuB9Ekv",
        "outputId": "ea43dd35-f4bb-4c67-e5de-73e55e379a82"
      },
      "execution_count": null,
      "outputs": [
        {
          "output_type": "display_data",
          "data": {
            "text/plain": [
              "<Figure size 800x600 with 2 Axes>"
            ],
            "image/png": "[encoded data removed]"
          },
          "metadata": {}
        }
      ]
    },
    {
      "cell_type": "code",
      "source": [
        "from sklearn.metrics import precision_recall_curve, f1_score\n",
        "import numpy as np"
      ],
      "metadata": {
        "id": "k0O_o_NRltUp"
      },
      "execution_count": 18,
      "outputs": []
    },
    {
      "cell_type": "code",
      "source": [
        "from sklearn.metrics import precision_recall_curve, f1_score\n",
        "import numpy as np\n",
        "\n",
        "# Predict probabilities for the positive class\n",
        "y_probs = clf.predict_proba(X_test)[:, 1]\n",
        "\n",
        "# Get precision-recall curve\n",
        "precision, recall, thresholds = precision_recall_curve(y_test, y_probs)\n",
        "\n",
        "# Calculate F1 scores for each threshold\n",
        "f1_scores = 2 * (precision * recall) / (precision + recall)\n",
        "\n",
        "# Find the threshold that maximizes the F1 score\n",
        "optimal_idx = np.argmax(f1_scores)\n",
        "optimal_threshold = thresholds[optimal_idx]\n",
        "\n",
        "print(f\"Optimal Threshold: {optimal_threshold:.4f}\")\n",
        "\n",
        "# Use this optimal threshold to make new predictions\n",
        "y_pred_optimal = (y_probs >= optimal_threshold).astype(int)\n",
        "\n",
        "# Evaluate the classifier with the optimal threshold\n",
        "accuracy_rf_final = accuracy_score(y_test, y_pred_optimal)\n",
        "precision_rf_final = precision_score(y_test, y_pred_optimal)\n",
        "recall_rf_final = recall_score(y_test, y_pred_optimal)\n",
        "\n",
        "print(\"Random Forest classifier with optimal threshold:\\n\" + \"-\" * 40)\n",
        "print(f\"Accuracy: {accuracy_rf_final:.4f}\")\n",
        "print(f\"Precision: {precision_rf_final:.4f}\")\n",
        "print(f\"Recall: {recall_rf_final:.4f}\")"
      ],
      "metadata": {
        "colab": {
          "base_uri": "https://localhost:8080/"
        },
        "id": "qCBJZDSGqZfs",
        "outputId": "03ed4dbe-42a4-471d-a14b-d0608703e388"
      },
      "execution_count": null,
      "outputs": [
        {
          "output_type": "stream",
          "name": "stdout",
          "text": [
            "Optimal Threshold: 0.5800\n",
            "Random Forest classifier with optimal threshold:\n",
            "----------------------------------------\n",
            "Accuracy: 0.9996\n",
            "Precision: 0.9419\n",
            "Recall: 0.8265\n"
          ]
        }
      ]
    },
    {
      "cell_type": "code",
      "source": [
        "# Compute the confusion matrix\n",
        "conf_matrix_rf_2 = confusion_matrix(y_test, y_pred_optimal)\n",
        "\n",
        "# Plot the confusion matrix using seaborn\n",
        "plt.figure(figsize=(8, 6))\n",
        "sns.heatmap(conf_matrix_rf_2, annot=True, fmt='d', cmap='Blues', xticklabels=['Predicted Negative', 'Predicted Positive'], yticklabels=['Actual Negative', 'Actual Positive'])\n",
        "plt.ylabel('Actual')\n",
        "plt.xlabel('Predicted')\n",
        "plt.title('Confusion Matrix Random Forest')\n",
        "plt.show()"
      ],
      "metadata": {
        "colab": {
          "base_uri": "https://localhost:8080/",
          "height": 564
        },
        "id": "sJWJhZ35qgHM",
        "outputId": "0954c835-ce4e-4192-b512-bb1d47ab2c73"
      },
      "execution_count": null,
      "outputs": [
        {
          "output_type": "display_data",
          "data": {
            "text/plain": [
              "<Figure size 800x600 with 2 Axes>"
            ],
            "image/png": "[encoded data removed]"
          },
          "metadata": {}
        }
      ]
    },
    {
      "cell_type": "markdown",
      "source": [
        "### Logistic Regression"
      ],
      "metadata": {
        "id": "PHeLUVTe4XEL"
      }
    },
    {
      "cell_type": "code",
      "source": [
        "from sklearn.linear_model import LogisticRegression\n",
        "from sklearn.preprocessing import binarize  # Threshold adjustment"
      ],
      "metadata": {
        "id": "ZiimLnb1yeE7"
      },
      "execution_count": null,
      "outputs": []
    },
    {
      "cell_type": "code",
      "source": [
        "\n",
        "# Initialize the Logistic Regression model with adjusted class weight\n",
        "logistic_model = LogisticRegression(\n",
        "    penalty='l2',\n",
        "    C=0.05,\n",
        "    class_weight={0: 1, 1: 10},\n",
        "    solver='liblinear',\n",
        "    max_iter=1000\n",
        ")\n",
        "\n",
        "# Fit the model on the balanced training data\n",
        "logistic_model.fit(X_train_balanced, y_train_balanced)\n",
        "\n",
        "# Predict probabilities\n",
        "y_pred = logistic_model.predict_proba(X_test)[:, 1]\n",
        "\n",
        "# Adjust the decision threshold\n",
        "threshold = 0.7  # Increasing the threshold\n",
        "y_pred_lr = binarize([y_pred], threshold=threshold)[0]  # Apply threshold\n",
        "\n",
        "# Evaluate the predictions\n",
        "accuracy_lr = accuracy_score(y_test, y_pred_lr)\n",
        "precision_lr = precision_score(y_test, y_pred_lr)\n",
        "recall_lr = recall_score(y_test, y_pred_lr)\n",
        "\n",
        "print(\"Logistic Regression Classifier results:\")\n",
        "print(f\"Accuracy: {accuracy_lr:.4f}\")\n",
        "print(f\"Precision: {precision_lr:.4f}\")\n",
        "print(f\"Recall: {recall_lr:.4f}\")\n",
        "\n",
        "\n",
        "conf_matrix_lg = confusion_matrix(y_test, y_pred_lr)\n",
        "print(\"\\nConfusion Matrix:\")\n",
        "print(conf_matrix_lg)\n"
      ],
      "metadata": {
        "colab": {
          "base_uri": "https://localhost:8080/"
        },
        "id": "Zs8Afwg4CHNR",
        "outputId": "7dccbb22-16f4-47aa-f86c-f785112618d2"
      },
      "execution_count": null,
      "outputs": [
        {
          "output_type": "stream",
          "name": "stdout",
          "text": [
            "Logistic Regression Classifier results:\n",
            "Accuracy: 0.8992\n",
            "Precision: 0.0156\n",
            "Recall: 0.9286\n",
            "\n",
            "Confusion Matrix:\n",
            "[[51129  5735]\n",
            " [    7    91]]\n"
          ]
        }
      ]
    },
    {
      "cell_type": "code",
      "source": [
        "# Predict probabilities\n",
        "y_pred_prob = logistic_model.predict_proba(X_test)[:, 1]\n",
        "\n",
        "# Calculate precision-recall pairs for different probability thresholds\n",
        "precisions, recalls, thresholds = precision_recall_curve(y_test, y_pred_prob)\n",
        "\n",
        "# Find the threshold that maximizes precision while retaining a reasonable recall\n",
        "idx = np.where(precisions > 0.80)[0][0]  # find the first instance where precision exceeds 80%\n",
        "optimal_threshold = thresholds[idx]\n",
        "print(f\"Optimal threshold for high precision: {optimal_threshold}\")\n",
        "\n",
        "# Apply the optimal threshold\n",
        "y_pred_optimal = (y_pred_prob >= optimal_threshold).astype(int)\n",
        "\n",
        "# New precision and recall\n",
        "new_precision = precision_score(y_test, y_pred_optimal)\n",
        "new_recall = recall_score(y_test, y_pred_optimal)\n",
        "print(f\"New Precision: {new_precision:.2f}\")\n",
        "print(f\"New Recall: {new_recall:.2f}\")"
      ],
      "metadata": {
        "colab": {
          "base_uri": "https://localhost:8080/"
        },
        "id": "WNx-LcbUDcQr",
        "outputId": "53b8c15c-b049-4d7e-b204-47ccde3944dd"
      },
      "execution_count": null,
      "outputs": [
        {
          "output_type": "stream",
          "name": "stdout",
          "text": [
            "Optimal threshold for high precision: 0.9999999999999074\n",
            "New Precision: 0.81\n",
            "New Recall: 0.78\n"
          ]
        }
      ]
    },
    {
      "cell_type": "code",
      "source": [
        "\n",
        "# Initialize the Logistic Regression model\n",
        "logistic_model_optimal = LogisticRegression(\n",
        "    penalty='l2',\n",
        "    C=0.05,  # Stronger regularization\n",
        "    class_weight={0: 1, 1: 10},  # Adjusted class weights\n",
        "    solver='liblinear',\n",
        "    max_iter=1000\n",
        ")\n",
        "\n",
        "# Fit the model on the balanced training data\n",
        "logistic_model_optimal.fit(X_train_balanced, y_train_balanced)\n",
        "\n",
        "# Predict probabilities\n",
        "y_pred_prob_optimal = logistic_model_optimal.predict_proba(X_test)[:, 1]\n",
        "\n",
        "# Applying the optimal threshold\n",
        "optimal_threshold = 0.9999999999999074  # This is the optimal threshold\n",
        "y_pred_final = (y_pred_prob_optimal >= optimal_threshold).astype(int)\n",
        "\n",
        "\n",
        "# Evaluate the predictions\n",
        "accuracy_lr_final = accuracy_score(y_test, y_pred_final)\n",
        "precision_lr_final = precision_score(y_test, y_pred_final)\n",
        "recall_lr_final = recall_score(y_test, y_pred_final)\n",
        "\n",
        "print(\"L1 Logistic Regression Classifier results:\")\n",
        "print(f\"Accuracy: {accuracy_lr_final:.4f}\")\n",
        "print(f\"Precision: {precision_lr_final:.4f}\")\n",
        "print(f\"Recall: {recall_lr_final:.4f}\")\n",
        "\n",
        "# Detailed classification report\n",
        "class_report_final = classification_report(y_test, y_pred_final)\n",
        "print(\"\\nFinal Model Classification Report:\")\n",
        "print(class_report_final)\n"
      ],
      "metadata": {
        "colab": {
          "base_uri": "https://localhost:8080/"
        },
        "id": "Boc_fgr3ELTo",
        "outputId": "c0d5c019-f055-4655-b4d3-a6ff0fe4ed32"
      },
      "execution_count": null,
      "outputs": [
        {
          "output_type": "stream",
          "name": "stdout",
          "text": [
            "L1 Logistic Regression Classifier results:\n",
            "Accuracy: 0.9993\n",
            "Precision: 0.8085\n",
            "Recall: 0.7755\n",
            "\n",
            "Final Model Classification Report:\n",
            "              precision    recall  f1-score   support\n",
            "\n",
            "           0       1.00      1.00      1.00     56864\n",
            "           1       0.81      0.78      0.79        98\n",
            "\n",
            "    accuracy                           1.00     56962\n",
            "   macro avg       0.90      0.89      0.90     56962\n",
            "weighted avg       1.00      1.00      1.00     56962\n",
            "\n"
          ]
        }
      ]
    },
    {
      "cell_type": "code",
      "source": [
        "# Displaying the confusion matrix\n",
        "conf_matrix_lr = confusion_matrix(y_test, y_pred_final)\n",
        "\n",
        "# Plot the confusion matrix using seaborn\n",
        "plt.figure(figsize=(8, 6))\n",
        "sns.heatmap(conf_matrix_lr, annot=True, fmt='d', cmap='Blues', xticklabels=['Predicted Negative', 'Predicted Positive'], yticklabels=['Actual Negative', 'Actual Positive'])\n",
        "plt.ylabel('Actual')\n",
        "plt.xlabel('Predicted')\n",
        "plt.title('Confusion Matrix Logistic Regression')\n",
        "plt.show()"
      ],
      "metadata": {
        "colab": {
          "base_uri": "https://localhost:8080/",
          "height": 564
        },
        "id": "53AMJa7dGZ1j",
        "outputId": "d39adb15-393d-4049-c80c-b5282e4615b3"
      },
      "execution_count": null,
      "outputs": [
        {
          "output_type": "display_data",
          "data": {
            "text/plain": [
              "<Figure size 800x600 with 2 Axes>"
            ],
            "image/png": "[encoded data removed]"
          },
          "metadata": {}
        }
      ]
    },
    {
      "cell_type": "markdown",
      "source": [
        "### XGBoost Classifier"
      ],
      "metadata": {
        "id": "Zw2Mk3Xf4QKz"
      }
    },
    {
      "cell_type": "code",
      "source": [
        "!pip install xgboost\n",
        "\n",
        "import xgboost as xgb"
      ],
      "metadata": {
        "colab": {
          "base_uri": "https://localhost:8080/"
        },
        "id": "6iogR1ehzBrm",
        "outputId": "37aebc76-a138-4ef2-cbb7-8257695f6655"
      },
      "execution_count": 16,
      "outputs": [
        {
          "output_type": "stream",
          "name": "stdout",
          "text": [
            "Requirement already satisfied: xgboost in /usr/local/lib/python3.10/dist-packages (2.0.3)\n",
            "Requirement already satisfied: numpy in /usr/local/lib/python3.10/dist-packages (from xgboost) (1.25.2)\n",
            "Requirement already satisfied: scipy in /usr/local/lib/python3.10/dist-packages (from xgboost) (1.11.4)\n"
          ]
        }
      ]
    },
    {
      "cell_type": "code",
      "source": [
        "\n",
        "# Initialize the XGBoost classifier\n",
        "xgb_classifier = xgb.XGBClassifier(random_state=42)\n",
        "\n",
        "# Fit the model on the balanced training data\n",
        "xgb_classifier.fit(X_train_balanced, y_train_balanced)\n",
        "\n",
        "# Predictions on the test set\n",
        "y_pred = xgb_classifier.predict(X_test)\n",
        "\n",
        "\n"
      ],
      "metadata": {
        "id": "iiu1XirJaQDA"
      },
      "execution_count": 17,
      "outputs": []
    },
    {
      "cell_type": "code",
      "source": [
        "# Evaluate the predictions\n",
        "accuracy_xgb = accuracy_score(y_test, y_pred)\n",
        "precision_xgb = precision_score(y_test, y_pred)\n",
        "recall_xgb = recall_score(y_test, y_pred)\n",
        "\n",
        "print(f\"Accuracy: {accuracy_xgb:.2f}\")\n",
        "print(f\"Precision: {precision_xgb:.2f}\")\n",
        "print(f\"Recall: {recall_xgb:.2f}\")\n"
      ],
      "metadata": {
        "colab": {
          "base_uri": "https://localhost:8080/"
        },
        "id": "WrP3HqnTaTwH",
        "outputId": "0eb5e850-696d-458c-ffb8-fe847ccb2584"
      },
      "execution_count": 19,
      "outputs": [
        {
          "output_type": "stream",
          "name": "stdout",
          "text": [
            "Accuracy: 1.00\n",
            "Precision: 0.74\n",
            "Recall: 0.85\n"
          ]
        }
      ]
    },
    {
      "cell_type": "code",
      "source": [
        "\n",
        "# Initialize the XGBoost classifier\n",
        "xgb_classifier_1 = xgb.XGBClassifier(random_state=42)\n",
        "\n",
        "# Fit the model on the balanced training data\n",
        "xgb_classifier_1.fit(X_train_balanced, y_train_balanced)\n",
        "\n",
        "# Get probabilities of the positive class\n",
        "y_probs = xgb_classifier_1.predict_proba(X_test)[:, 1]\n",
        "# Define a custom threshold\n",
        "threshold = 0.9\n",
        "\n",
        "# Convert probabilities to 0 or 1 based on the threshold\n",
        "y_pred_custom_threshold = (y_probs >= threshold).astype(int)\n",
        "\n",
        "# Evaluate the predictions with the custom threshold\n",
        "accuracy_xgb_final = accuracy_score(y_test, y_pred_custom_threshold)\n",
        "precision_xgb_final = precision_score(y_test, y_pred_custom_threshold)\n",
        "recall_xgb_final = recall_score(y_test, y_pred_custom_threshold)\n",
        "\n",
        "print(f\"Accuracy with threshold {threshold}: {accuracy_xgb_final:.2f}\")\n",
        "print(f\"Precision with threshold {threshold}: {precision_xgb_final:.2f}\")\n",
        "print(f\"Recall with threshold {threshold}: {recall_xgb_final:.2f}\")"
      ],
      "metadata": {
        "colab": {
          "base_uri": "https://localhost:8080/"
        },
        "id": "qIH1auspk7W_",
        "outputId": "418c0fee-857d-442e-9608-fa141368f74e"
      },
      "execution_count": 21,
      "outputs": [
        {
          "output_type": "stream",
          "name": "stdout",
          "text": [
            "Accuracy with threshold 0.9: 1.00\n",
            "Precision with threshold 0.9: 0.94\n",
            "Recall with threshold 0.9: 0.82\n"
          ]
        }
      ]
    },
    {
      "cell_type": "code",
      "source": [
        "# Displaying the confusion matrix\n",
        "conf_matrix_xgb_1 = confusion_matrix(y_test, y_pred_custom_threshold)\n",
        "\n",
        "# Plot the confusion matrix using seaborn\n",
        "plt.figure(figsize=(8, 6))\n",
        "sns.heatmap(conf_matrix_xgb_1, annot=True, fmt='d', cmap='Blues', xticklabels=['Predicted Negative', 'Predicted Positive'], yticklabels=['Actual Negative', 'Actual Positive'])\n",
        "plt.ylabel('Actual')\n",
        "plt.xlabel('Predicted')\n",
        "plt.title('Confusion Matrix XGBoost Classifier')\n",
        "plt.show()"
      ],
      "metadata": {
        "colab": {
          "base_uri": "https://localhost:8080/",
          "height": 564
        },
        "id": "KkzkVjYwl0gw",
        "outputId": "c5a3a1c2-0ba6-4409-f094-7b4a6c39e53a"
      },
      "execution_count": 22,
      "outputs": [
        {
          "output_type": "display_data",
          "data": {
            "text/plain": [
              "<Figure size 800x600 with 2 Axes>"
            ],
            "image/png": "[encoded data removed]"
          },
          "metadata": {}
        }
      ]
    },
    {
      "cell_type": "markdown",
      "source": [
        "### K Nearest Neighbors (KNN) classifier"
      ],
      "metadata": {
        "id": "QvyE894K31jY"
      }
    },
    {
      "cell_type": "code",
      "source": [
        "from sklearn.neighbors import KNeighborsClassifier"
      ],
      "metadata": {
        "id": "t-SesS1GzHR0"
      },
      "execution_count": 23,
      "outputs": []
    },
    {
      "cell_type": "code",
      "source": [
        "# Define the model with specific parameters\n",
        "knn = KNeighborsClassifier(n_neighbors=3, weights='uniform', metric='euclidean', algorithm='auto')\n",
        "\n",
        "# Fit the model to the balanced training data\n",
        "knn.fit(X_train_balanced, y_train_balanced)\n",
        "\n",
        "# Make predictions\n",
        "predictions = knn.predict(X_test)\n",
        "\n",
        "# Evaluate the model's performance\n",
        "accuracy_knn = accuracy_score(y_test, predictions)\n",
        "precision_knn = precision_score(y_test, predictions)\n",
        "recall_knn = recall_score(y_test, predictions)\n",
        "\n",
        "\n",
        "print(f\"Accuracy: {accuracy_knn}\")\n",
        "print(f\"Precision: {precision_knn}\")\n",
        "print(f\"Recall: {recall_knn}\")"
      ],
      "metadata": {
        "colab": {
          "base_uri": "https://localhost:8080/"
        },
        "id": "t7rl0pBy0qBq",
        "outputId": "320cfad6-bdfd-4934-a654-ac027aa923e3"
      },
      "execution_count": 24,
      "outputs": [
        {
          "output_type": "stream",
          "name": "stdout",
          "text": [
            "Accuracy: 0.9986482216214319\n",
            "Precision: 0.5704697986577181\n",
            "Recall: 0.8673469387755102\n"
          ]
        }
      ]
    },
    {
      "cell_type": "code",
      "source": [
        "\n",
        "# Define and fit the model\n",
        "knn = KNeighborsClassifier(n_neighbors=3, weights='uniform', metric='euclidean', algorithm='auto')\n",
        "knn.fit(X_train_balanced, y_train_balanced)\n",
        "\n",
        "# Get probability estimates\n",
        "probabilities = knn.predict_proba(X_test)[:, 1]\n",
        "\n",
        "# Custom threshold\n",
        "threshold = 0.99\n",
        "\n",
        "# Convert probabilities to binary predictions based on the threshold\n",
        "custom_predictions = (probabilities >= threshold).astype(int)\n",
        "\n",
        "# Evaluate the model with the new predictions\n",
        "accuracy_knn_final = accuracy_score(y_test, custom_predictions)\n",
        "precision_knn_final = precision_score(y_test, custom_predictions)\n",
        "recall_knn_final = recall_score(y_test, custom_predictions)\n",
        "\n",
        "print(f\"Accuracy: {accuracy_knn_final}\")\n",
        "print(f\"Precision: {precision_knn_final}\")\n",
        "print(f\"Recall: {recall_knn_final}\")"
      ],
      "metadata": {
        "colab": {
          "base_uri": "https://localhost:8080/"
        },
        "id": "Doc6s_MIWxGg",
        "outputId": "edc82a91-efe1-49e6-f883-c27b1e17b073"
      },
      "execution_count": 25,
      "outputs": [
        {
          "output_type": "stream",
          "name": "stdout",
          "text": [
            "Accuracy: 0.9991573329588147\n",
            "Precision: 0.7155172413793104\n",
            "Recall: 0.8469387755102041\n"
          ]
        }
      ]
    },
    {
      "cell_type": "code",
      "source": [
        "# Displaying the confusion matrix\n",
        "conf_matrix_knn = confusion_matrix(y_test, custom_predictions)\n",
        "\n",
        "# Plot the confusion matrix using seaborn\n",
        "plt.figure(figsize=(8, 6))\n",
        "sns.heatmap(conf_matrix_knn, annot=True, fmt='d', cmap='Blues', xticklabels=['Predicted Negative', 'Predicted Positive'], yticklabels=['Actual Negative', 'Actual Positive'])\n",
        "plt.ylabel('Actual')\n",
        "plt.xlabel('Predicted')\n",
        "plt.title('Confusion Matrix K-Nearest Neighbour')\n",
        "plt.show()"
      ],
      "metadata": {
        "colab": {
          "base_uri": "https://localhost:8080/",
          "height": 564
        },
        "id": "s7nnA3__rBy9",
        "outputId": "47084994-6427-453c-f337-8cba38f0fae2"
      },
      "execution_count": 26,
      "outputs": [
        {
          "output_type": "display_data",
          "data": {
            "text/plain": [
              "<Figure size 800x600 with 2 Axes>"
            ],
            "image/png": "[encoded data removed]"
          },
          "metadata": {}
        }
      ]
    },
    {
      "cell_type": "markdown",
      "source": [
        "#Comparision"
      ],
      "metadata": {
        "id": "Gh4jqFIERcQR"
      }
    },
    {
      "cell_type": "code",
      "source": [
        "# Organizing the data into lists\n",
        "models = ['Neural Network', 'Random Forest', 'Logistic Regression', 'XGBoost', 'KNN']\n",
        "accuracy = [accuracy_nn, accuracy_rf_final, accuracy_lr_final, accuracy_xgb_final, accuracy_knn_final]\n",
        "precision = [precision_nn, precision_rf_final, precision_lr_final, precision_xgb_final, precision_knn_final]\n",
        "recall = [recall_nn, recall_rf_final, recall_lr_final, recall_xgb_final, recall_knn_final]\n",
        "\n",
        "# Set position of bar on X axis\n",
        "r1 = np.arange(len(accuracy))\n",
        "r2 = [x + 0.25 for x in r1]\n",
        "r3 = [x + 0.25 for x in r2]\n",
        "\n",
        "# Creating the plot\n",
        "plt.figure(figsize=(10, 6))\n",
        "plt.bar(r1, accuracy, color='b', width=0.25, label='Accuracy')\n",
        "plt.bar(r2, precision, color='g', width=0.25, label='Precision')\n",
        "plt.bar(r3, recall, color='r', width=0.25, label='Recall')\n",
        "\n",
        "# Adding labels and customizations\n",
        "plt.xlabel('Model', fontweight='bold')\n",
        "plt.xticks([r + 0.25 for r in range(len(accuracy))], models)\n",
        "plt.ylabel('Metric Value', fontweight='bold')\n",
        "plt.title('Comparison of Model Metrics')\n",
        "\n",
        "# Adding a legend to the chart\n",
        "plt.legend()\n",
        "\n",
        "# Display the chart\n",
        "plt.show()\n"
      ],
      "metadata": {
        "id": "Q2ll_hNwlSex",
        "colab": {
          "base_uri": "https://localhost:8080/",
          "height": 537
        },
        "outputId": "19706d95-0df0-4265-bde8-2c5f16cb0a07"
      },
      "execution_count": null,
      "outputs": [
        {
          "output_type": "display_data",
          "data": {
            "text/plain": [
              "<Figure size 1000x600 with 1 Axes>"
            ],
            "image/png": "[encoded data removed]"
          },
          "metadata": {}
        }
      ]
    }
  ]
}